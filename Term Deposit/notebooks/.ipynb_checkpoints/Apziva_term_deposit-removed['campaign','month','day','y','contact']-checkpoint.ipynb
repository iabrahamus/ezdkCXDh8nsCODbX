{
 "cells": [
  {
   "cell_type": "markdown",
   "metadata": {},
   "source": [
    "# Term deposit marketing\n",
    "## Background\n",
    "We are a small startup focusing mainly on providing machine learning solutions in the European banking market. We work on a variety of problems including fraud detection, sentiment classification and customer intention prediction and classification.\n",
    "\n",
    "We are interested in developing a robust machine learning system that leverages information coming from call center data.\n",
    "\n",
    "Ultimately, we are looking for ways to improve the success rate for calls made to customers for any product that our clients offer. Towards this goal we are working on designing an ever evolving machine learning product that offers high success outcomes while offering interpretability for our clients to make informed decisions.\n",
    "\n",
    "## Data description\n",
    "The data comes from direct marketing efforts of a European banking institution. The marketing campaign involves making a phone call to a customer, often multiple times to ensure a product subscription, in this case a term deposit. Term deposits are usually short-term deposits with maturities ranging from one month to a few years. The customer must understand when buying a term deposit that they can withdraw their funds only after the term ends. All customer information that might reveal personal information is removed due to privacy concerns.\n",
    "\n",
    "**Attributes:**\n",
    "- age : age of customer (numeric)\n",
    "- job : type of job (categorical)\n",
    "- marital : marital status (categorical)\n",
    "- education (categorical)\n",
    "- default: has credit in default? (binary)\n",
    "- balance: average yearly balance, in euros (numeric)\n",
    "- housing: has a housing loan? (binary)\n",
    "- loan: has personal loan? (binary)\n",
    "- contact: contact communication type (categorical)\n",
    "- day: last contact day of the month (numeric)\n",
    "- month: last contact month of year (categorical)\n",
    "- duration: last contact duration, in seconds (numeric)\n",
    "- campaign: number of contacts performed during this campaign and for this client (numeric, includes last contact)\n",
    "\n",
    "**Output (Desired target)**\n",
    "- y - has the client subscribed to a term deposit? (binary)\n",
    "\n",
    "**Download data**\n",
    "- https://drive.google.com/file/d/1EW-XMnGfxn-qzGtGPa3v_C63Yqj2aGf7\n",
    "\n",
    "## Goals\n",
    "- Predict if the customer will subscribe (yes/no) to a term deposit (variable y)\n",
    "\n",
    "## Success metric(s)\n",
    "- Hit 81% or above accuracy by evaluating with 5-fold cross validation and reporting the average performance score.\n",
    "\n",
    "## Bonus(es)\n",
    "\n",
    "- We are also interested in finding customers who are more likely to buy the investment product. Determine the segment(s) of customers our client should prioritize.\n",
    "- What makes the customers buy? Tell us which feature we should be focusing more on.\n"
   ]
  },
  {
   "cell_type": "markdown",
   "metadata": {},
   "source": [
    "# Data Wrangling\n",
    "## Imports\n",
    "Place imports at the start of the notebook so that you only need to consult one place to check your notebook dependencies."
   ]
  },
  {
   "cell_type": "code",
   "execution_count": 1,
   "metadata": {},
   "outputs": [],
   "source": [
    "# load libraries\n",
    "import pandas as pd\n",
    "import numpy as np\n",
    "import matplotlib.pyplot as plt\n",
    "import seaborn as sns\n",
    "import warnings \n",
    "warnings.filterwarnings('ignore')\n",
    "import os\n",
    "import random\n",
    "# Lazy predict import\n",
    "import lazypredict\n",
    "from lazypredict.Supervised import LazyClassifier\n",
    "from sklearn.preprocessing import StandardScaler\n",
    "from sklearn.model_selection import train_test_split,cross_val_score,KFold,learning_curve\n",
    "\n",
    "from sklearn.metrics import r2_score,classification_report,accuracy_score,roc_curve, roc_auc_score\n",
    "from sklearn.model_selection import StratifiedKFold,cross_validate,GridSearchCV,RandomizedSearchCV\n",
    "from sklearn.ensemble import RandomForestClassifier,BaggingClassifier\n",
    "from sklearn.linear_model import LogisticRegression\n",
    "from xgboost import XGBClassifier\n",
    "from sklearn.tree import DecisionTreeClassifier\n",
    "from sklearn.neighbors import KNeighborsClassifier\n",
    "from imblearn.over_sampling import SMOTE\n",
    "from collections import Counter\n",
    "from sklearn.ensemble import ExtraTreesClassifier\n"
   ]
  },
  {
   "cell_type": "markdown",
   "metadata": {},
   "source": [
    "**Load the telemarketing data**"
   ]
  },
  {
   "cell_type": "code",
   "execution_count": 2,
   "metadata": {},
   "outputs": [],
   "source": [
    "#df = pd.read_csv('bank-full.csv')\n",
    "\n",
    "# set a path variable to the directory containing bank telemarketing data:. ../raw_data\n",
    "path = '../raw_data'\n",
    "# Concatenate directory path to the file name: bank_path\n",
    "tele_path = path + '/term-deposit-marketing-2020.csv'\n",
    "# Load data file to a dataframe: df\n",
    "df = pd.read_csv(tele_path)"
   ]
  },
  {
   "cell_type": "markdown",
   "metadata": {},
   "source": [
    "## View and inspect data"
   ]
  },
  {
   "cell_type": "code",
   "execution_count": 3,
   "metadata": {},
   "outputs": [
    {
     "data": {
      "text/plain": [
       "(40000, 14)"
      ]
     },
     "execution_count": 3,
     "metadata": {},
     "output_type": "execute_result"
    }
   ],
   "source": [
    "# Get number of rows and columns of our dataset: df.shape\n",
    "df.shape"
   ]
  },
  {
   "cell_type": "markdown",
   "metadata": {},
   "source": [
    "Our dataset consists of 40000 observations and 14 columns. In other words the bank contacted 40000 customers recording 14 attributes for each customer"
   ]
  },
  {
   "cell_type": "code",
   "execution_count": 4,
   "metadata": {},
   "outputs": [
    {
     "data": {
      "text/html": [
       "<div>\n",
       "<style scoped>\n",
       "    .dataframe tbody tr th:only-of-type {\n",
       "        vertical-align: middle;\n",
       "    }\n",
       "\n",
       "    .dataframe tbody tr th {\n",
       "        vertical-align: top;\n",
       "    }\n",
       "\n",
       "    .dataframe thead th {\n",
       "        text-align: right;\n",
       "    }\n",
       "</style>\n",
       "<table border=\"1\" class=\"dataframe\">\n",
       "  <thead>\n",
       "    <tr style=\"text-align: right;\">\n",
       "      <th></th>\n",
       "      <th>age</th>\n",
       "      <th>job</th>\n",
       "      <th>marital</th>\n",
       "      <th>education</th>\n",
       "      <th>default</th>\n",
       "      <th>balance</th>\n",
       "      <th>housing</th>\n",
       "      <th>loan</th>\n",
       "      <th>contact</th>\n",
       "      <th>day</th>\n",
       "      <th>month</th>\n",
       "      <th>duration</th>\n",
       "      <th>campaign</th>\n",
       "      <th>y</th>\n",
       "    </tr>\n",
       "  </thead>\n",
       "  <tbody>\n",
       "    <tr>\n",
       "      <th>0</th>\n",
       "      <td>58</td>\n",
       "      <td>management</td>\n",
       "      <td>married</td>\n",
       "      <td>tertiary</td>\n",
       "      <td>no</td>\n",
       "      <td>2143</td>\n",
       "      <td>yes</td>\n",
       "      <td>no</td>\n",
       "      <td>unknown</td>\n",
       "      <td>5</td>\n",
       "      <td>may</td>\n",
       "      <td>261</td>\n",
       "      <td>1</td>\n",
       "      <td>no</td>\n",
       "    </tr>\n",
       "    <tr>\n",
       "      <th>1</th>\n",
       "      <td>44</td>\n",
       "      <td>technician</td>\n",
       "      <td>single</td>\n",
       "      <td>secondary</td>\n",
       "      <td>no</td>\n",
       "      <td>29</td>\n",
       "      <td>yes</td>\n",
       "      <td>no</td>\n",
       "      <td>unknown</td>\n",
       "      <td>5</td>\n",
       "      <td>may</td>\n",
       "      <td>151</td>\n",
       "      <td>1</td>\n",
       "      <td>no</td>\n",
       "    </tr>\n",
       "    <tr>\n",
       "      <th>2</th>\n",
       "      <td>33</td>\n",
       "      <td>entrepreneur</td>\n",
       "      <td>married</td>\n",
       "      <td>secondary</td>\n",
       "      <td>no</td>\n",
       "      <td>2</td>\n",
       "      <td>yes</td>\n",
       "      <td>yes</td>\n",
       "      <td>unknown</td>\n",
       "      <td>5</td>\n",
       "      <td>may</td>\n",
       "      <td>76</td>\n",
       "      <td>1</td>\n",
       "      <td>no</td>\n",
       "    </tr>\n",
       "    <tr>\n",
       "      <th>3</th>\n",
       "      <td>47</td>\n",
       "      <td>blue-collar</td>\n",
       "      <td>married</td>\n",
       "      <td>unknown</td>\n",
       "      <td>no</td>\n",
       "      <td>1506</td>\n",
       "      <td>yes</td>\n",
       "      <td>no</td>\n",
       "      <td>unknown</td>\n",
       "      <td>5</td>\n",
       "      <td>may</td>\n",
       "      <td>92</td>\n",
       "      <td>1</td>\n",
       "      <td>no</td>\n",
       "    </tr>\n",
       "    <tr>\n",
       "      <th>4</th>\n",
       "      <td>33</td>\n",
       "      <td>unknown</td>\n",
       "      <td>single</td>\n",
       "      <td>unknown</td>\n",
       "      <td>no</td>\n",
       "      <td>1</td>\n",
       "      <td>no</td>\n",
       "      <td>no</td>\n",
       "      <td>unknown</td>\n",
       "      <td>5</td>\n",
       "      <td>may</td>\n",
       "      <td>198</td>\n",
       "      <td>1</td>\n",
       "      <td>no</td>\n",
       "    </tr>\n",
       "  </tbody>\n",
       "</table>\n",
       "</div>"
      ],
      "text/plain": [
       "   age           job  marital  education default  balance housing loan  \\\n",
       "0   58    management  married   tertiary      no     2143     yes   no   \n",
       "1   44    technician   single  secondary      no       29     yes   no   \n",
       "2   33  entrepreneur  married  secondary      no        2     yes  yes   \n",
       "3   47   blue-collar  married    unknown      no     1506     yes   no   \n",
       "4   33       unknown   single    unknown      no        1      no   no   \n",
       "\n",
       "   contact  day month  duration  campaign   y  \n",
       "0  unknown    5   may       261         1  no  \n",
       "1  unknown    5   may       151         1  no  \n",
       "2  unknown    5   may        76         1  no  \n",
       "3  unknown    5   may        92         1  no  \n",
       "4  unknown    5   may       198         1  no  "
      ]
     },
     "execution_count": 4,
     "metadata": {},
     "output_type": "execute_result"
    }
   ],
   "source": [
    "# view first few customer data\n",
    "df.head()"
   ]
  },
  {
   "cell_type": "code",
   "execution_count": 5,
   "metadata": {},
   "outputs": [
    {
     "name": "stdout",
     "output_type": "stream",
     "text": [
      "<class 'pandas.core.frame.DataFrame'>\n",
      "RangeIndex: 40000 entries, 0 to 39999\n",
      "Data columns (total 14 columns):\n",
      " #   Column     Non-Null Count  Dtype \n",
      "---  ------     --------------  ----- \n",
      " 0   age        40000 non-null  int64 \n",
      " 1   job        40000 non-null  object\n",
      " 2   marital    40000 non-null  object\n",
      " 3   education  40000 non-null  object\n",
      " 4   default    40000 non-null  object\n",
      " 5   balance    40000 non-null  int64 \n",
      " 6   housing    40000 non-null  object\n",
      " 7   loan       40000 non-null  object\n",
      " 8   contact    40000 non-null  object\n",
      " 9   day        40000 non-null  int64 \n",
      " 10  month      40000 non-null  object\n",
      " 11  duration   40000 non-null  int64 \n",
      " 12  campaign   40000 non-null  int64 \n",
      " 13  y          40000 non-null  object\n",
      "dtypes: int64(5), object(9)\n",
      "memory usage: 4.3+ MB\n"
     ]
    }
   ],
   "source": [
    "#Call the info method on df to see a summary of the data\n",
    "df.info()"
   ]
  },
  {
   "cell_type": "markdown",
   "metadata": {},
   "source": [
    "From the summary of our data we see that we have 5 feature of type integer and 9 categorical features. Also it looks like we do not have any missing values in our dataset. All 40000 observation are non-null."
   ]
  },
  {
   "cell_type": "markdown",
   "metadata": {},
   "source": [
    "## Count number of missing values (double check)\n",
    "Let's explicitly get the number of missing values in each column of our data"
   ]
  },
  {
   "cell_type": "code",
   "execution_count": 6,
   "metadata": {},
   "outputs": [
    {
     "data": {
      "text/plain": [
       "age          0\n",
       "job          0\n",
       "marital      0\n",
       "education    0\n",
       "default      0\n",
       "balance      0\n",
       "housing      0\n",
       "loan         0\n",
       "contact      0\n",
       "day          0\n",
       "month        0\n",
       "duration     0\n",
       "campaign     0\n",
       "y            0\n",
       "dtype: int64"
      ]
     },
     "execution_count": 6,
     "metadata": {},
     "output_type": "execute_result"
    }
   ],
   "source": [
    "# Count (using `.sum()`) the number of missing values (`.isnull()`) in each column of df\n",
    "df.isnull().sum()"
   ]
  },
  {
   "cell_type": "markdown",
   "metadata": {},
   "source": [
    "We do not have any missing values in our data. However, it must be noted that isnull() is not the only indicator of missing data. Sometimes 'missingness' can be encoded, perhaps by a -1 or 999. Such values are typically chosen because they are \"obviously\" not genuine values. We will find out later if we have encoded missing values later, but for now at least we know that we do have any missing values or `nan` values in any of our columns."
   ]
  },
  {
   "cell_type": "markdown",
   "metadata": {},
   "source": [
    "## Check for duplicates in our data\n",
    "Let's check for duplicates in our dataset if we have any."
   ]
  },
  {
   "cell_type": "code",
   "execution_count": 7,
   "metadata": {},
   "outputs": [
    {
     "data": {
      "text/plain": [
       "0"
      ]
     },
     "execution_count": 7,
     "metadata": {},
     "output_type": "execute_result"
    }
   ],
   "source": [
    "#count the number of duplicate observation in df\n",
    "df.duplicated().sum()"
   ]
  },
  {
   "cell_type": "markdown",
   "metadata": {},
   "source": [
    "We also do not have any duplicate entries in our dataset."
   ]
  },
  {
   "cell_type": "markdown",
   "metadata": {},
   "source": [
    "## Explore the data\n",
    "\n",
    "Let us now explore the data more closely. We can start exploring with categorical features and then explore the numerical features."
   ]
  },
  {
   "cell_type": "markdown",
   "metadata": {},
   "source": [
    "### Categorical features\n",
    "\n",
    "Let us explore the categorical features."
   ]
  },
  {
   "cell_type": "code",
   "execution_count": 8,
   "metadata": {},
   "outputs": [
    {
     "name": "stdout",
     "output_type": "stream",
     "text": [
      "['job', 'marital', 'education', 'default', 'housing', 'loan', 'contact', 'month', 'y']\n"
     ]
    },
    {
     "data": {
      "text/plain": [
       "9"
      ]
     },
     "execution_count": 8,
     "metadata": {},
     "output_type": "execute_result"
    }
   ],
   "source": [
    "# create a list containig categorcal feature names\n",
    "categorical_features = list(df.select_dtypes('object').axes[1])\n",
    "print(categorical_features)\n",
    "len(categorical_features)"
   ]
  },
  {
   "cell_type": "markdown",
   "metadata": {},
   "source": [
    "Consistent with what we obtained from .info() method, we have 9 categorical features."
   ]
  },
  {
   "cell_type": "markdown",
   "metadata": {},
   "source": [
    "### How many unique values does each categorical feature has?\n",
    "Let's get the number of unique values for each of the categorical features "
   ]
  },
  {
   "cell_type": "code",
   "execution_count": 9,
   "metadata": {},
   "outputs": [
    {
     "data": {
      "text/plain": [
       "job          12\n",
       "marital       3\n",
       "education     4\n",
       "default       2\n",
       "housing       2\n",
       "loan          2\n",
       "contact       3\n",
       "month        11\n",
       "y             2\n",
       "dtype: int64"
      ]
     },
     "execution_count": 9,
     "metadata": {},
     "output_type": "execute_result"
    }
   ],
   "source": [
    "# use pandas .nunique() method to get the count of unique values for each categorical feature.\n",
    "df[categorical_features].nunique()"
   ]
  },
  {
   "cell_type": "markdown",
   "metadata": {},
   "source": [
    "While 7 of the categorical features have unique value counts of less than or equal to 4, two feature namely: `job` and `month` have 12 and 11 unique values. Note that the not all the 12 months are present in the dataset, since we only have 11 unique values. We need to check this"
   ]
  },
  {
   "cell_type": "code",
   "execution_count": 10,
   "metadata": {},
   "outputs": [
    {
     "data": {
      "text/plain": [
       "Index(['may', 'jul', 'aug', 'jun', 'nov', 'apr', 'feb', 'jan', 'mar', 'oct',\n",
       "       'dec'],\n",
       "      dtype='object')"
      ]
     },
     "execution_count": 10,
     "metadata": {},
     "output_type": "execute_result"
    }
   ],
   "source": [
    "# check which month might be missing\n",
    "df['month'].value_counts().index"
   ]
  },
  {
   "cell_type": "markdown",
   "metadata": {},
   "source": [
    "No telemarketing data for september. For some reason, the bank did not conduct any telemarketing campaign during the month of september."
   ]
  },
  {
   "cell_type": "markdown",
   "metadata": {},
   "source": [
    "### Group categorical features\n",
    "\n",
    "The categorical features can be grouped into three categories, namely. 1. Demographic features 2. financial features 3. campaign and target categorical feature group"
   ]
  },
  {
   "cell_type": "code",
   "execution_count": 11,
   "metadata": {},
   "outputs": [],
   "source": [
    "# create lists consisting group of categorical features\n",
    "demographic_cat_features = ['job', 'marital', 'education']\n",
    "financial_cat_features = ['default', 'housing', 'loan']\n",
    "campaign_and_target_cat_features = ['contact', 'month','y']"
   ]
  },
  {
   "cell_type": "code",
   "execution_count": 12,
   "metadata": {},
   "outputs": [],
   "source": [
    "# Function for plotting multiple categorical features\n",
    "# It specifically plots customers segmented by demographics, financial data, and campaingn details\n",
    "def plot_categorical_features(data_frame,features_list):\n",
    "        total = len(data_frame)\n",
    "        axes = []\n",
    "        i=0\n",
    "        while(i<len(features_list)):\n",
    "            # create subplots\n",
    "            sns.set(font_scale=1.4)\n",
    "            fig, (ax1, ax2, ax3) = plt.subplots(1, 3)\n",
    "            fig.set_size_inches(14, 6)\n",
    "        \n",
    "            if features_list[i] in demographic_cat_features:\n",
    "                label = 'Demographic'\n",
    "            if features_list[i] in financial_cat_features:\n",
    "                label = 'Financial data segmented'\n",
    "            if features_list[i] in campaign_and_target_cat_features:\n",
    "                label = 'Previous and past campaign result segmented'\n",
    "            fig.suptitle(label + ' distribution of customers contacted' , fontsize=22)\n",
    "            plt.tight_layout()\n",
    "            \n",
    "            sns.countplot(y= data_frame[features_list[i]] , palette=['red','blue'], ax=ax1,hue=data_frame['y'])\n",
    "    \n",
    "            sns.countplot(y= data_frame[features_list[i+1]] , palette=['red','blue'], ax=ax2,hue=data_frame['y'])\n",
    "            \n",
    "            sns.countplot(y= data_frame[features_list[i+2]] , palette=['red','blue'], ax=ax3,hue=data_frame['y'])\n",
    "            ax1.set_title('Contact count by '+ features_list[i],fontname='Comic Sans MS', fontsize=18)\n",
    "            \n",
    "            \n",
    "            ax2.set_title('Contact count by ' + features_list[i+1],fontname='Comic Sans MS', fontsize=18)\n",
    "            ax3.set_title('Contact count by ' + features_list[i+2],fontname='Comic Sans MS', fontsize=18)\n",
    "            \n",
    "            ax1.set_ylabel(features_list[i], fontsize=20)\n",
    "            ax2.set_ylabel(features_list[i+1], fontsize=20)\n",
    "            ax3.set_ylabel(features_list[i+2], fontsize=20)\n",
    "            #ax1.set_yticklabels('labels',fontsize=20)\n",
    "          #  ax2.set_ylabel(features_list[i+1], fontsize=20)\n",
    "          #  ax3.set_ylabel(features_list[i+2], fontsize=20)\n",
    "            ax1.set_xlabel('Count', fontsize=20)\n",
    "            ax2.set_xlabel('Count', fontsize=20)\n",
    "            ax3.set_xlabel('Count', fontsize=20)\n",
    "            \n",
    "            i+=3\n",
    "            \n",
    "            axes.append(ax1)\n",
    "            axes.append(ax2)\n",
    "            axes.append(ax3)\n",
    "\n",
    "        return axes\n",
    "    "
   ]
  },
  {
   "cell_type": "code",
   "execution_count": 13,
   "metadata": {},
   "outputs": [],
   "source": [
    "# Group data frame into two groups based on target value\n",
    "df_group_by_target = df.groupby('y')\n",
    "for target,df_group in df_group_by_target:\n",
    "    if target == 'yes':\n",
    "        df_subscribed = df_group\n",
    "    if target == 'no':\n",
    "        df_unsubscribed = df_group"
   ]
  },
  {
   "cell_type": "code",
   "execution_count": 14,
   "metadata": {},
   "outputs": [],
   "source": [
    "# Function to create a new dataframe consisting of value counts of a given categorical features \n",
    "# along with counts of subscribed, unsubscribed, total, and percent subscribed for a given value of\n",
    "# a catgorical feature\n",
    "# function returns a dictionary of dataframes with keys corresponding to categorical features input\n",
    "# in the argument of the function as a list.\n",
    "def create_df_sub(cat_features):\n",
    "#    i = 0\n",
    "    dict_df_sub = {}\n",
    "#    while i <= len(cat_features):\n",
    "    for feature in cat_features:   \n",
    "        temp1 = df_subscribed[feature].value_counts()\n",
    "        temp2 = df_unsubscribed[feature].value_counts()\n",
    "        df1 = pd.concat([temp1,temp2],axis=1)\n",
    "        df1.columns = ['Subscribed', 'Not Subscribed']\n",
    "        total = df1['Subscribed'] + df1['Not Subscribed']\n",
    "        df1['Total'] = total\n",
    "        df1['% Subscription'] = (df1['Subscribed']/df1['Total'])*100\n",
    "        dict_df_sub[feature] = df1\n",
    "    return dict_df_sub"
   ]
  },
  {
   "cell_type": "markdown",
   "metadata": {},
   "source": [
    "#### Demographic distribution of customers\n",
    "\n",
    "Demographic segmentation is a systematic gouping of customers into distinct groups for the purpose of marketing. Effective marketing communication requires the identification of the right target group. Demographic segmentation is a commonly used technique in marketing where target categories based on one or more of socio-economic variables like job, age, gender, marital status, income, eduction, etc. In our case the categorical demongraphic content of the customers contacted by the bank includes `job`, `marital`, `education`. \n",
    "\n",
    "It is important to know the demographic content of the customers the bank has reached out during its campaign before determining how predictive a given demographic trait is in determining whether a customer will subscribe to a term deposit or not. Figure below shows the demographic distribution of customers contacted by the bank irrespective of whether they have subscribed or not. "
   ]
  },
  {
   "cell_type": "code",
   "execution_count": 15,
   "metadata": {},
   "outputs": [
    {
     "data": {
      "text/html": [
       "<div>\n",
       "<style scoped>\n",
       "    .dataframe tbody tr th:only-of-type {\n",
       "        vertical-align: middle;\n",
       "    }\n",
       "\n",
       "    .dataframe tbody tr th {\n",
       "        vertical-align: top;\n",
       "    }\n",
       "\n",
       "    .dataframe thead th {\n",
       "        text-align: right;\n",
       "    }\n",
       "</style>\n",
       "<table border=\"1\" class=\"dataframe\">\n",
       "  <thead>\n",
       "    <tr style=\"text-align: right;\">\n",
       "      <th></th>\n",
       "      <th></th>\n",
       "      <th>% Subscription</th>\n",
       "      <th>Not Subscribed</th>\n",
       "      <th>Subscribed</th>\n",
       "      <th>Total</th>\n",
       "    </tr>\n",
       "  </thead>\n",
       "  <tbody>\n",
       "    <tr>\n",
       "      <th rowspan=\"12\" valign=\"top\">Job</th>\n",
       "      <th>management</th>\n",
       "      <td>8.28</td>\n",
       "      <td>7490</td>\n",
       "      <td>676</td>\n",
       "      <td>8166</td>\n",
       "    </tr>\n",
       "    <tr>\n",
       "      <th>blue-collar</th>\n",
       "      <td>5.70</td>\n",
       "      <td>8848</td>\n",
       "      <td>535</td>\n",
       "      <td>9383</td>\n",
       "    </tr>\n",
       "    <tr>\n",
       "      <th>technician</th>\n",
       "      <td>7.25</td>\n",
       "      <td>6355</td>\n",
       "      <td>497</td>\n",
       "      <td>6852</td>\n",
       "    </tr>\n",
       "    <tr>\n",
       "      <th>admin</th>\n",
       "      <td>7.83</td>\n",
       "      <td>4132</td>\n",
       "      <td>351</td>\n",
       "      <td>4483</td>\n",
       "    </tr>\n",
       "    <tr>\n",
       "      <th>services</th>\n",
       "      <td>6.09</td>\n",
       "      <td>3672</td>\n",
       "      <td>238</td>\n",
       "      <td>3910</td>\n",
       "    </tr>\n",
       "    <tr>\n",
       "      <th>retired</th>\n",
       "      <td>10.51</td>\n",
       "      <td>1286</td>\n",
       "      <td>151</td>\n",
       "      <td>1437</td>\n",
       "    </tr>\n",
       "    <tr>\n",
       "      <th>self-employed</th>\n",
       "      <td>7.92</td>\n",
       "      <td>1302</td>\n",
       "      <td>112</td>\n",
       "      <td>1414</td>\n",
       "    </tr>\n",
       "    <tr>\n",
       "      <th>unemployed</th>\n",
       "      <td>8.70</td>\n",
       "      <td>1008</td>\n",
       "      <td>96</td>\n",
       "      <td>1104</td>\n",
       "    </tr>\n",
       "    <tr>\n",
       "      <th>entrepreneur</th>\n",
       "      <td>6.26</td>\n",
       "      <td>1317</td>\n",
       "      <td>88</td>\n",
       "      <td>1405</td>\n",
       "    </tr>\n",
       "    <tr>\n",
       "      <th>student</th>\n",
       "      <td>15.65</td>\n",
       "      <td>442</td>\n",
       "      <td>82</td>\n",
       "      <td>524</td>\n",
       "    </tr>\n",
       "    <tr>\n",
       "      <th>housemaid</th>\n",
       "      <td>4.88</td>\n",
       "      <td>1034</td>\n",
       "      <td>53</td>\n",
       "      <td>1087</td>\n",
       "    </tr>\n",
       "    <tr>\n",
       "      <th>unknown</th>\n",
       "      <td>7.23</td>\n",
       "      <td>218</td>\n",
       "      <td>17</td>\n",
       "      <td>235</td>\n",
       "    </tr>\n",
       "    <tr>\n",
       "      <th rowspan=\"3\" valign=\"top\">Marital</th>\n",
       "      <th>married</th>\n",
       "      <td>6.06</td>\n",
       "      <td>22908</td>\n",
       "      <td>1478</td>\n",
       "      <td>24386</td>\n",
       "    </tr>\n",
       "    <tr>\n",
       "      <th>single</th>\n",
       "      <td>9.43</td>\n",
       "      <td>9862</td>\n",
       "      <td>1027</td>\n",
       "      <td>10889</td>\n",
       "    </tr>\n",
       "    <tr>\n",
       "      <th>divorced</th>\n",
       "      <td>8.28</td>\n",
       "      <td>4334</td>\n",
       "      <td>391</td>\n",
       "      <td>4725</td>\n",
       "    </tr>\n",
       "    <tr>\n",
       "      <th rowspan=\"4\" valign=\"top\">Education</th>\n",
       "      <th>secondary</th>\n",
       "      <td>6.75</td>\n",
       "      <td>19575</td>\n",
       "      <td>1418</td>\n",
       "      <td>20993</td>\n",
       "    </tr>\n",
       "    <tr>\n",
       "      <th>tertiary</th>\n",
       "      <td>9.18</td>\n",
       "      <td>10177</td>\n",
       "      <td>1029</td>\n",
       "      <td>11206</td>\n",
       "    </tr>\n",
       "    <tr>\n",
       "      <th>primary</th>\n",
       "      <td>5.63</td>\n",
       "      <td>5917</td>\n",
       "      <td>353</td>\n",
       "      <td>6270</td>\n",
       "    </tr>\n",
       "    <tr>\n",
       "      <th>unknown</th>\n",
       "      <td>6.27</td>\n",
       "      <td>1435</td>\n",
       "      <td>96</td>\n",
       "      <td>1531</td>\n",
       "    </tr>\n",
       "  </tbody>\n",
       "</table>\n",
       "</div>"
      ],
      "text/plain": [
       "                         % Subscription  Not Subscribed  Subscribed  Total\n",
       "Job       management               8.28            7490         676   8166\n",
       "          blue-collar              5.70            8848         535   9383\n",
       "          technician               7.25            6355         497   6852\n",
       "          admin                    7.83            4132         351   4483\n",
       "          services                 6.09            3672         238   3910\n",
       "          retired                 10.51            1286         151   1437\n",
       "          self-employed            7.92            1302         112   1414\n",
       "          unemployed               8.70            1008          96   1104\n",
       "          entrepreneur             6.26            1317          88   1405\n",
       "          student                 15.65             442          82    524\n",
       "          housemaid                4.88            1034          53   1087\n",
       "          unknown                  7.23             218          17    235\n",
       "Marital   married                  6.06           22908        1478  24386\n",
       "          single                   9.43            9862        1027  10889\n",
       "          divorced                 8.28            4334         391   4725\n",
       "Education secondary                6.75           19575        1418  20993\n",
       "          tertiary                 9.18           10177        1029  11206\n",
       "          primary                  5.63            5917         353   6270\n",
       "          unknown                  6.27            1435          96   1531"
      ]
     },
     "execution_count": 15,
     "metadata": {},
     "output_type": "execute_result"
    }
   ],
   "source": [
    "# call function above (create_df_sub) with an argument ['job'], ['marital'], and ['contact'] \n",
    "# to get a dictionary whose value is a dataframe corresponding\n",
    "# dict['job'] = dataframe (consisting of subscribed, unsubscribed, %, and total)\n",
    "\n",
    "#Dictionaries for job, contact, and marital\n",
    "dict_df_job = create_df_sub(['job'])\n",
    "dict_df_marital = create_df_sub(['marital'])\n",
    "dict_df_education = create_df_sub(['education'])\n",
    "#dataframes for each category\n",
    "df_jobs = dict_df_job['job']\n",
    "df_marital = dict_df_marital['marital']\n",
    "df_education = dict_df_education['education']\n",
    "#Combine datframes\n",
    "pd.concat([df_jobs, df_marital, df_education], keys=['Job', 'Marital', 'Education'],sort=True)"
   ]
  },
  {
   "cell_type": "code",
   "execution_count": 16,
   "metadata": {},
   "outputs": [
    {
     "data": {
      "image/png": "[encoded data removed]",
      "text/plain": [
       "<Figure size 1008x432 with 3 Axes>"
      ]
     },
     "metadata": {},
     "output_type": "display_data"
    }
   ],
   "source": [
    "# Use function above to plot demographic content of customers contacted by the bank during the telemarketing.\n",
    "plot_categorical_features(df,demographic_cat_features);"
   ]
  },
  {
   "cell_type": "markdown",
   "metadata": {},
   "source": [
    "##### Customer jobs\n",
    "Customers with `blue-collar` jobs were contacted the most during the marketing campaing. Customer's whose jobs is unknown (either not recroded or customer did not want to speficity) are targeted the least during the marketing campaign. Following customers with blue-collar managers, technicians, and adminstrators, respectively in decreasing order were contacted during the marketing compaign. As one might expect students were targeted the least during the marketing compaign. Though the bank contacted the largest number of people in job segment category of `blue-collar`, and the number of students the bank contacted was small, the percentage of students who subscribed to term deposit is the largest. We recommend the bank contact more students in the next telemarketing campaign.\n",
    "\n",
    "##### Marital status\n",
    "\n",
    "`Marital status` is another important trait used in demographic segmentaion. It provides useful information to target audience during marketing communication through promotional messages. Usually people in the same marital status group have common tastes and can can be easily targeted based on marital status. For example, generally people who are married need more financial strategy and are likely expected to respond to the term deposit marketing campaign.\n",
    "The largest number of people contacted during the marketing campaing are `married`. The list contacted people are `divorced`individuals.  However, the rate of subscription for divorced people is also greater than that of married people. We recommend the bank target more single and divorced people in its next telemarketing campaign for term deposit subscription.\n",
    "\n",
    "##### Educational level\n",
    "The level of education of an individual is also an important trait when segmenting population for marketing campaigns. For example educational level determines determines the choice of communication channel in passing across your message.\n",
    "During the marketing campaign customer who completed high school are contacted the most. There are also a few number of contacts made where customer's education level is `UNKNOWN`. "
   ]
  },
  {
   "cell_type": "markdown",
   "metadata": {},
   "source": [
    "#### Financial distribution of customers\n",
    "\n",
    "In addition to demographic segmentation, customers could be grouped together based on their account related to their finances. That is whether a customer has credit or not (`default`), has housing loan or not (`housing`), and has personal loan or not (`loan`).  Below we plot the distribution of customers segmented by their fiancail status. "
   ]
  },
  {
   "cell_type": "code",
   "execution_count": 17,
   "metadata": {},
   "outputs": [
    {
     "data": {
      "text/html": [
       "<div>\n",
       "<style scoped>\n",
       "    .dataframe tbody tr th:only-of-type {\n",
       "        vertical-align: middle;\n",
       "    }\n",
       "\n",
       "    .dataframe tbody tr th {\n",
       "        vertical-align: top;\n",
       "    }\n",
       "\n",
       "    .dataframe thead th {\n",
       "        text-align: right;\n",
       "    }\n",
       "</style>\n",
       "<table border=\"1\" class=\"dataframe\">\n",
       "  <thead>\n",
       "    <tr style=\"text-align: right;\">\n",
       "      <th></th>\n",
       "      <th></th>\n",
       "      <th>% Subscription</th>\n",
       "      <th>Not Subscribed</th>\n",
       "      <th>Subscribed</th>\n",
       "      <th>Total</th>\n",
       "    </tr>\n",
       "  </thead>\n",
       "  <tbody>\n",
       "    <tr>\n",
       "      <th rowspan=\"2\" valign=\"top\">default</th>\n",
       "      <th>no</th>\n",
       "      <td>7.26</td>\n",
       "      <td>36344</td>\n",
       "      <td>2847</td>\n",
       "      <td>39191</td>\n",
       "    </tr>\n",
       "    <tr>\n",
       "      <th>yes</th>\n",
       "      <td>6.06</td>\n",
       "      <td>760</td>\n",
       "      <td>49</td>\n",
       "      <td>809</td>\n",
       "    </tr>\n",
       "    <tr>\n",
       "      <th rowspan=\"2\" valign=\"top\">Housing</th>\n",
       "      <th>yes</th>\n",
       "      <td>6.09</td>\n",
       "      <td>22567</td>\n",
       "      <td>1464</td>\n",
       "      <td>24031</td>\n",
       "    </tr>\n",
       "    <tr>\n",
       "      <th>no</th>\n",
       "      <td>8.97</td>\n",
       "      <td>14537</td>\n",
       "      <td>1432</td>\n",
       "      <td>15969</td>\n",
       "    </tr>\n",
       "    <tr>\n",
       "      <th rowspan=\"2\" valign=\"top\">Loan</th>\n",
       "      <th>no</th>\n",
       "      <td>7.61</td>\n",
       "      <td>30554</td>\n",
       "      <td>2516</td>\n",
       "      <td>33070</td>\n",
       "    </tr>\n",
       "    <tr>\n",
       "      <th>yes</th>\n",
       "      <td>5.48</td>\n",
       "      <td>6550</td>\n",
       "      <td>380</td>\n",
       "      <td>6930</td>\n",
       "    </tr>\n",
       "  </tbody>\n",
       "</table>\n",
       "</div>"
      ],
      "text/plain": [
       "             % Subscription  Not Subscribed  Subscribed  Total\n",
       "default no             7.26           36344        2847  39191\n",
       "        yes            6.06             760          49    809\n",
       "Housing yes            6.09           22567        1464  24031\n",
       "        no             8.97           14537        1432  15969\n",
       "Loan    no             7.61           30554        2516  33070\n",
       "        yes            5.48            6550         380   6930"
      ]
     },
     "execution_count": 17,
     "metadata": {},
     "output_type": "execute_result"
    }
   ],
   "source": [
    "dict_df_default = create_df_sub(['default'])\n",
    "dict_df_housing = create_df_sub(['housing'])\n",
    "dict_df_loan = create_df_sub(['loan'])\n",
    "#dataframes for each category\n",
    "df_default = dict_df_default['default']\n",
    "df_housing = dict_df_housing['housing']\n",
    "df_loan = dict_df_loan['loan']\n",
    "#Combine datframes\n",
    "pd.concat([df_default, df_housing, df_loan], keys=['default', 'Housing', 'Loan'],sort=True)"
   ]
  },
  {
   "cell_type": "code",
   "execution_count": 18,
   "metadata": {},
   "outputs": [
    {
     "data": {
      "image/png": "[encoded data removed]",
      "text/plain": [
       "<Figure size 1008x432 with 3 Axes>"
      ]
     },
     "metadata": {},
     "output_type": "display_data"
    }
   ],
   "source": [
    "# plot financial segmented distribution\n",
    "plot_categorical_features(df,financial_cat_features);"
   ]
  },
  {
   "cell_type": "markdown",
   "metadata": {},
   "source": [
    "##### Has credit (`default`)\n",
    "Majority of customers contacted by the bank do not have credit or did not default (98.2%). Only a few fraction (1.8%) of all the customers contacted had credit. Hence, credit might not be an important feature in determining whether a customer will subscribe to a term deposit or not. \n",
    "\n",
    "##### Housing loan\n",
    "During this telemarketing campaign, the bank called an almost balanced number of customers depending whether they have housing loan or not. About 55% of the customers contacted by the bank during this telemarketing possess housing loan. The remaining about 45% of the customers contacted did not have housing loan.\n",
    "\n",
    "##### Personal loan\n",
    "\n",
    "The majority of customers (84%) called during this telemarketing did not have any personal loans. However, a non-negligible number of customers (16%) had personal loans."
   ]
  },
  {
   "cell_type": "markdown",
   "metadata": {},
   "source": [
    "#### Distribution of customers versus camapaign details and target balance plot\n",
    "\n",
    "In addition to demographic and financial segmentation, customers could be grouped together based on the details of the past and present campaign parameters.  That is how was the customer contacted (for example iphone or phone), the particular month the cusomter was contacted. \n",
    "\n",
    "Below we plot customers segmented by details of the past and present campaing."
   ]
  },
  {
   "cell_type": "code",
   "execution_count": 19,
   "metadata": {},
   "outputs": [
    {
     "data": {
      "text/html": [
       "<div>\n",
       "<style scoped>\n",
       "    .dataframe tbody tr th:only-of-type {\n",
       "        vertical-align: middle;\n",
       "    }\n",
       "\n",
       "    .dataframe tbody tr th {\n",
       "        vertical-align: top;\n",
       "    }\n",
       "\n",
       "    .dataframe thead th {\n",
       "        text-align: right;\n",
       "    }\n",
       "</style>\n",
       "<table border=\"1\" class=\"dataframe\">\n",
       "  <thead>\n",
       "    <tr style=\"text-align: right;\">\n",
       "      <th></th>\n",
       "      <th></th>\n",
       "      <th>% Subscription</th>\n",
       "      <th>Not Subscribed</th>\n",
       "      <th>Subscribed</th>\n",
       "      <th>Total</th>\n",
       "    </tr>\n",
       "  </thead>\n",
       "  <tbody>\n",
       "    <tr>\n",
       "      <th rowspan=\"3\" valign=\"top\">Contact</th>\n",
       "      <th>cellular</th>\n",
       "      <td>8.96</td>\n",
       "      <td>22681.00</td>\n",
       "      <td>2233.00</td>\n",
       "      <td>24914.00</td>\n",
       "    </tr>\n",
       "    <tr>\n",
       "      <th>unknown</th>\n",
       "      <td>3.89</td>\n",
       "      <td>12268.00</td>\n",
       "      <td>497.00</td>\n",
       "      <td>12765.00</td>\n",
       "    </tr>\n",
       "    <tr>\n",
       "      <th>telephone</th>\n",
       "      <td>7.15</td>\n",
       "      <td>2155.00</td>\n",
       "      <td>166.00</td>\n",
       "      <td>2321.00</td>\n",
       "    </tr>\n",
       "    <tr>\n",
       "      <th rowspan=\"11\" valign=\"top\">Month</th>\n",
       "      <th>may</th>\n",
       "      <td>5.85</td>\n",
       "      <td>12741.00</td>\n",
       "      <td>791.00</td>\n",
       "      <td>13532.00</td>\n",
       "    </tr>\n",
       "    <tr>\n",
       "      <th>apr</th>\n",
       "      <td>16.59</td>\n",
       "      <td>2267.00</td>\n",
       "      <td>451.00</td>\n",
       "      <td>2718.00</td>\n",
       "    </tr>\n",
       "    <tr>\n",
       "      <th>jul</th>\n",
       "      <td>6.02</td>\n",
       "      <td>5996.00</td>\n",
       "      <td>384.00</td>\n",
       "      <td>6380.00</td>\n",
       "    </tr>\n",
       "    <tr>\n",
       "      <th>jun</th>\n",
       "      <td>6.21</td>\n",
       "      <td>4440.00</td>\n",
       "      <td>294.00</td>\n",
       "      <td>4734.00</td>\n",
       "    </tr>\n",
       "    <tr>\n",
       "      <th>aug</th>\n",
       "      <td>5.52</td>\n",
       "      <td>4927.00</td>\n",
       "      <td>288.00</td>\n",
       "      <td>5215.00</td>\n",
       "    </tr>\n",
       "    <tr>\n",
       "      <th>feb</th>\n",
       "      <td>11.11</td>\n",
       "      <td>2041.00</td>\n",
       "      <td>255.00</td>\n",
       "      <td>2296.00</td>\n",
       "    </tr>\n",
       "    <tr>\n",
       "      <th>nov</th>\n",
       "      <td>6.11</td>\n",
       "      <td>3378.00</td>\n",
       "      <td>220.00</td>\n",
       "      <td>3598.00</td>\n",
       "    </tr>\n",
       "    <tr>\n",
       "      <th>mar</th>\n",
       "      <td>48.45</td>\n",
       "      <td>133.00</td>\n",
       "      <td>125.00</td>\n",
       "      <td>258.00</td>\n",
       "    </tr>\n",
       "    <tr>\n",
       "      <th>oct</th>\n",
       "      <td>61.25</td>\n",
       "      <td>31.00</td>\n",
       "      <td>49.00</td>\n",
       "      <td>80.00</td>\n",
       "    </tr>\n",
       "    <tr>\n",
       "      <th>jan</th>\n",
       "      <td>3.23</td>\n",
       "      <td>1138.00</td>\n",
       "      <td>38.00</td>\n",
       "      <td>1176.00</td>\n",
       "    </tr>\n",
       "    <tr>\n",
       "      <th>dec</th>\n",
       "      <td>7.69</td>\n",
       "      <td>12.00</td>\n",
       "      <td>1.00</td>\n",
       "      <td>13.00</td>\n",
       "    </tr>\n",
       "    <tr>\n",
       "      <th rowspan=\"2\" valign=\"top\">Target</th>\n",
       "      <th>yes</th>\n",
       "      <td>nan</td>\n",
       "      <td>nan</td>\n",
       "      <td>2896.00</td>\n",
       "      <td>nan</td>\n",
       "    </tr>\n",
       "    <tr>\n",
       "      <th>no</th>\n",
       "      <td>nan</td>\n",
       "      <td>37104.00</td>\n",
       "      <td>nan</td>\n",
       "      <td>nan</td>\n",
       "    </tr>\n",
       "  </tbody>\n",
       "</table>\n",
       "</div>"
      ],
      "text/plain": [
       "                   % Subscription  Not Subscribed  Subscribed    Total\n",
       "Contact cellular             8.96        22681.00     2233.00 24914.00\n",
       "        unknown              3.89        12268.00      497.00 12765.00\n",
       "        telephone            7.15         2155.00      166.00  2321.00\n",
       "Month   may                  5.85        12741.00      791.00 13532.00\n",
       "        apr                 16.59         2267.00      451.00  2718.00\n",
       "        jul                  6.02         5996.00      384.00  6380.00\n",
       "        jun                  6.21         4440.00      294.00  4734.00\n",
       "        aug                  5.52         4927.00      288.00  5215.00\n",
       "        feb                 11.11         2041.00      255.00  2296.00\n",
       "        nov                  6.11         3378.00      220.00  3598.00\n",
       "        mar                 48.45          133.00      125.00   258.00\n",
       "        oct                 61.25           31.00       49.00    80.00\n",
       "        jan                  3.23         1138.00       38.00  1176.00\n",
       "        dec                  7.69           12.00        1.00    13.00\n",
       "Target  yes                   nan             nan     2896.00      nan\n",
       "        no                    nan        37104.00         nan      nan"
      ]
     },
     "execution_count": 19,
     "metadata": {},
     "output_type": "execute_result"
    }
   ],
   "source": [
    "# call function above (create_df_sub) with an argument ['job'], ['marital'], and ['contact'] \n",
    "# to get a dictionary whose value is a dataframe corresponding\n",
    "# dict['job'] = dataframe (consisting of subscribed, unsubscribed, %, and total)\n",
    "\n",
    "#Dictionaries for job, contact, and marital\n",
    "dict_df_contact = create_df_sub(['contact'])\n",
    "dict_df_month = create_df_sub(['month'])\n",
    "dict_df_target = create_df_sub(['y'])\n",
    "#dataframes for each category\n",
    "df_contact = dict_df_contact['contact']\n",
    "df_month = dict_df_month['month']\n",
    "df_target = dict_df_target['y']\n",
    "#Combine datframes\n",
    "pd.concat([df_contact, df_month,df_target], keys=['Contact', 'Month','Target'],sort=True)"
   ]
  },
  {
   "cell_type": "code",
   "execution_count": 20,
   "metadata": {},
   "outputs": [
    {
     "data": {
      "image/png": "[encoded data removed]",
      "text/plain": [
       "<Figure size 1008x432 with 3 Axes>"
      ]
     },
     "metadata": {},
     "output_type": "display_data"
    }
   ],
   "source": [
    "# plot distribution of customers versus campaign details and target balance\n",
    "plot_categorical_features(df,campaign_and_target_cat_features);"
   ]
  },
  {
   "cell_type": "markdown",
   "metadata": {},
   "source": [
    "##### Contact\n",
    "Different segments of the populations prefer different methods of contact. The communication channel used during the marketing campaign is essential. The largest number of customers were contacted through cellular phone. The least popular method of contact was through telephone. During the marketing campaign, 62% of the population contacted by the bank was through cellualr phones. Only 6% contacted through a telephone line while about 32% contacted through an unknown (unspecified) mode of communication. \n",
    "\n",
    "##### Season customer contacted\n",
    "The season when the bank should contact target population segment is also an important trait for the success of the marketing camapaign. The largest number of contacts were made during spring and summer seasons with combined contact rate of 79 %. This is understandable since spring and summer are the beginning and end dates of the tax season; where customers may be motivated for financial plans due to expected tax returns. Barely any telemarketing was conducted during the winter which is understandable as it is the holiday and end of year season.\n",
    "\n",
    "##### Target balance\n",
    "With only 7.24% subscribed and 92.76% unsubscribed customers our dataset is highly imbalanced. We might need to deal with balancing the dataset when we are ready to develop the classification machine learning model. "
   ]
  },
  {
   "cell_type": "markdown",
   "metadata": {},
   "source": [
    "### Numerical features\n",
    "\n",
    "Let us now explore the numerical features."
   ]
  },
  {
   "cell_type": "code",
   "execution_count": 21,
   "metadata": {},
   "outputs": [
    {
     "name": "stdout",
     "output_type": "stream",
     "text": [
      "['age', 'balance', 'day', 'duration', 'campaign']\n"
     ]
    },
    {
     "data": {
      "text/plain": [
       "5"
      ]
     },
     "execution_count": 21,
     "metadata": {},
     "output_type": "execute_result"
    }
   ],
   "source": [
    "# create a list containig categorcal feature names\n",
    "numerical_features = list(df.select_dtypes('int64').axes[1])\n",
    "print(numerical_features)\n",
    "len(numerical_features)"
   ]
  },
  {
   "cell_type": "code",
   "execution_count": 22,
   "metadata": {},
   "outputs": [],
   "source": [
    "# plot the distribution of numerical columns using histograms\n",
    "def plot_distribution(df,columns,plot_type='boxplot'):\n",
    "    sns.set()\n",
    "    axes = []\n",
    "    i=0\n",
    "\n",
    "    while i<len(columns):\n",
    "        fig, (ax1, ax2) = plt.subplots(1, 2)\n",
    "        fig.set_size_inches(18, 7)\n",
    "        #sns.hisplot(df[columns[i]],bins=15,color='blue',ax=ax1)\n",
    "        sns.boxplot(df[columns[i]],color='blue',ax=ax1,hue=df['y'])\n",
    "        ax1.set_xlabel(columns[i], fontsize=20)\n",
    "        ax1.set_ylabel('Count', fontsize=20)\n",
    "        try:\n",
    "            #sns.histplot(df[columns[i+1]],bins=15,color='blue',ax=ax2)\n",
    "            sns.boxplot(df[columns[i+1]],color='blue',ax=ax2,hue=df['y'])\n",
    "            ax2.set_xlabel(columns[i+1], fontsize=20)\n",
    "            ax2.set_ylabel('Count', fontsize=20)\n",
    "#            ax2.set(xlim=(-9000,100000))\n",
    "        except:\n",
    "            print('Warning: Odd number of variables provided. One plot will be empty')\n",
    "        i+=2\n",
    "        axes.append(ax1)\n",
    "        axes.append(ax2)\n",
    "    return axes"
   ]
  },
  {
   "cell_type": "markdown",
   "metadata": {},
   "source": [
    "#### Age and balance\n",
    "Let us see the distribution of customers by age and by how much balance they have in their account"
   ]
  },
  {
   "cell_type": "code",
   "execution_count": 23,
   "metadata": {},
   "outputs": [
    {
     "name": "stdout",
     "output_type": "stream",
     "text": [
      "            age   balance\n",
      "count  40000.00  40000.00\n",
      "mean      40.54   1274.28\n",
      "std        9.64   2903.77\n",
      "min       19.00  -8019.00\n",
      "25%       33.00     54.00\n",
      "50%       39.00    407.00\n",
      "75%       48.00   1319.00\n",
      "max       95.00 102127.00\n",
      "median    39.00    407.00\n"
     ]
    },
    {
     "data": {
      "image/png": "[encoded data removed]",
      "text/plain": [
       "<Figure size 1296x504 with 2 Axes>"
      ]
     },
     "metadata": {},
     "output_type": "display_data"
    }
   ],
   "source": [
    "# Create dataframe containing stastistical summary of numerical features\n",
    "stat_summary_numericals = df[numerical_features].describe()\n",
    "stat_summary_numericals.loc['median'] = df[numerical_features].median()\n",
    "print(stat_summary_numericals[['age','balance']].head(12))\n",
    "# create list consisting of age and balance\n",
    "numerical_age_balance = ['age','balance']\n",
    "\n",
    "# plot histogram of age and balance\n",
    "plot_distribution(df,numerical_age_balance);"
   ]
  },
  {
   "cell_type": "markdown",
   "metadata": {},
   "source": [
    "##### Distribution of age \n",
    "\n",
    "The age of customers contacted by the bank during the telemarketing extends from a minium age of 18 years to a maximum age of 95 years old. The majority of customer contacted by the bank were in their 30s and 40s (33 to 48 years land within 25th and 75 th percentiles). With an average age of 41 years old and a standard deviation of 10 years, the distribution of age is close to normal distribution.  \n",
    "\n",
    "##### Distribution of account balance\n",
    "\n",
    "The customers contacted include those with posititive and negative account balances. The distribution of account balances is highly skewed. The account balance of the customers called by the bank extends from -8019.0 to 102127.0 euros, resulting to a range of 110146 euros. With a mean of 1362 euros and standard deviation of 3044 euros, the balance distribution is highly skewed and far from normal. There are significant number of outliers as can be seen by looking how far the minimum and maximum values from the mean. "
   ]
  },
  {
   "cell_type": "code",
   "execution_count": 24,
   "metadata": {},
   "outputs": [
    {
     "data": {
      "image/png": "[encoded data removed]",
      "text/plain": [
       "<Figure size 576x360 with 1 Axes>"
      ]
     },
     "metadata": {},
     "output_type": "display_data"
    }
   ],
   "source": [
    "fig, (ax1) = plt.subplots(1, 1)\n",
    "scatter_age_balance = sns.scatterplot(x = 'age',y='balance',data=df,hue='y')\n",
    "fig.set_size_inches(8, 5)\n",
    "plt.title('Balance dependence on age ')\n",
    "plt.show()"
   ]
  },
  {
   "cell_type": "markdown",
   "metadata": {},
   "source": [
    "There is no clear dependence of account balance on the customer's age. However, in general customers over the age of 60 and less than 20 years old seem to possess smaller account balances. This may be due to the fact the younger customers are in the process of establishing themsleves while the older customers have already retired and may not have any reliable source of income."
   ]
  },
  {
   "cell_type": "markdown",
   "metadata": {},
   "source": [
    "##### Negative balance customers\n",
    "Let us check the subscription rate of customers with negative account balance."
   ]
  },
  {
   "cell_type": "code",
   "execution_count": 25,
   "metadata": {},
   "outputs": [
    {
     "data": {
      "image/png": "[encoded data removed]",
      "text/plain": [
       "<Figure size 576x360 with 1 Axes>"
      ]
     },
     "metadata": {},
     "output_type": "display_data"
    }
   ],
   "source": [
    "negative_balance_customers = df[df['balance'] < 0]\n",
    "fig, (ax1) = plt.subplots(1, 1)\n",
    "scatter_age_balance = sns.scatterplot(x = 'age',y='balance',data=negative_balance_customers,hue='y')\n",
    "fig.set_size_inches(8, 5)\n",
    "plt.title('Negative balance customers ')\n",
    "plt.show()"
   ]
  },
  {
   "cell_type": "markdown",
   "metadata": {},
   "source": [
    "There are non-negligible portion of customers who subscribed to the term deposit. Hence we can not drop these customers as outliers."
   ]
  },
  {
   "cell_type": "markdown",
   "metadata": {},
   "source": [
    "#### Duration and Campaign distribution"
   ]
  },
  {
   "cell_type": "code",
   "execution_count": 26,
   "metadata": {},
   "outputs": [
    {
     "name": "stdout",
     "output_type": "stream",
     "text": [
      "        duration  campaign\n",
      "count   40000.00  40000.00\n",
      "mean      254.82      2.88\n",
      "std       259.37      3.24\n",
      "min         0.00      1.00\n",
      "25%       100.00      1.00\n",
      "50%       175.00      2.00\n",
      "75%       313.00      3.00\n",
      "max      4918.00     63.00\n",
      "median    175.00      2.00\n"
     ]
    }
   ],
   "source": [
    "numerical_duration_campaign = ['duration', 'campaign']\n",
    "print(stat_summary_numericals[['duration','campaign']].head(12))"
   ]
  },
  {
   "cell_type": "code",
   "execution_count": 27,
   "metadata": {},
   "outputs": [
    {
     "data": {
      "image/png": "[encoded data removed]",
      "text/plain": [
       "<Figure size 1296x504 with 2 Axes>"
      ]
     },
     "metadata": {},
     "output_type": "display_data"
    }
   ],
   "source": [
    "# Change duration unit to minutes from seconds\n",
    "df['duration'] = df['duration'].apply(lambda n:n/60).round(2)\n",
    "# plot histogram of duration and campaign\n",
    "plot_distribution(df,numerical_duration_campaign);"
   ]
  },
  {
   "cell_type": "code",
   "execution_count": 28,
   "metadata": {},
   "outputs": [
    {
     "data": {
      "image/png": "[encoded data removed]",
      "text/plain": [
       "<Figure size 576x360 with 1 Axes>"
      ]
     },
     "metadata": {},
     "output_type": "display_data"
    }
   ],
   "source": [
    "fig, (ax1) = plt.subplots(1, 1)\n",
    "scatter_age_balance = sns.scatterplot(x = 'campaign',y='duration',data=df,hue='y')\n",
    "fig.set_size_inches(8, 5)\n",
    "plt.title('Call duration versus number of calls ')\n",
    "plt.show()"
   ]
  },
  {
   "cell_type": "markdown",
   "metadata": {},
   "source": [
    "Calls that lasted longer required fewer number of calls. It is more probable that a customer will decide whether to subscribe or not after a long conversation and no repeated calls were required. Also may some customers could have been busy at the time of the call and calls might be repeated before moving on with a decision. Also it is worth noting that the majority of customers who subscribed required less than 20 calls. Some outlier calls were repeated over 35 times, but no customers subscribed after the repeated calls. "
   ]
  },
  {
   "cell_type": "markdown",
   "metadata": {},
   "source": [
    "##### Day disbribution (last contact day of the month)"
   ]
  },
  {
   "cell_type": "code",
   "execution_count": 29,
   "metadata": {},
   "outputs": [
    {
     "data": {
      "image/png": "[encoded data removed]",
      "text/plain": [
       "<Figure size 720x360 with 1 Axes>"
      ]
     },
     "metadata": {},
     "output_type": "display_data"
    }
   ],
   "source": [
    "fig, (ax1) = plt.subplots(1, 1)\n",
    "sns.countplot(x='day',data=df,hue='y')\n",
    "fig.set_size_inches(10, 5)"
   ]
  },
  {
   "cell_type": "markdown",
   "metadata": {},
   "source": [
    "Largest number of customer contacts were made in the middle 10 days of the month while the least number of contacts were made in the last 10 days of the month. Also the total number of customers who subscribed is the largest between 10-20 days of the month. There is a non-zero number of customers who subscribed for a given day within a month. \n"
   ]
  },
  {
   "cell_type": "markdown",
   "metadata": {},
   "source": [
    "#### Create new month, age, and balance group features"
   ]
  },
  {
   "cell_type": "code",
   "execution_count": 30,
   "metadata": {},
   "outputs": [],
   "source": [
    "# Group months into seasons for easier analysis\n",
    "winter = ['dec','jan','feb']\n",
    "spring = ['mar','apr','may']\n",
    "summer = ['jun','jul','aug']\n",
    "fall = ['sep','oct','nov']\n",
    "df.replace(winter,'winter [12-2]',inplace=True)\n",
    "df.replace(spring,'spring [3-5]',inplace=True)\n",
    "df.replace(summer,'summer [6-8]',inplace=True)\n",
    "df.replace(fall,'fall [9-11]',inplace=True)\n",
    "df['month'];"
   ]
  },
  {
   "cell_type": "code",
   "execution_count": 31,
   "metadata": {},
   "outputs": [],
   "source": [
    "# Group customers based on their age and create a new feature called age_group\n",
    "lst_df = [df]\n",
    "for column in lst_df:\n",
    "    column.loc[column[\"age\"] < 35,  'age_group'] = '<35'\n",
    "    column.loc[(column[\"age\"] >= 35) & (column[\"age\"] <= 50), 'age_group'] = '35-50'\n",
    "    column.loc[(column[\"age\"] > 50) & (column[\"age\"] <= 65), 'age_group'] = '50-65'\n",
    "    column.loc[(column[\"age\"] > 65), 'age_group'] = '65+'\n",
    "#    column.loc[column[\"age\"] >= 60, 'age_group'] = 60"
   ]
  },
  {
   "cell_type": "code",
   "execution_count": 32,
   "metadata": {},
   "outputs": [],
   "source": [
    "# Also let's group customers based on thier account balance as well and create new feature called balance_group.\n",
    "\n",
    "lst_df = [df]\n",
    "for column in lst_df:\n",
    "    column.loc[column[\"balance\"] <= 0,  'balance_group'] = 'no balance'\n",
    "    column.loc[(column[\"balance\"] > 0) & (column[\"balance\"] <= 500), 'balance_group'] = 'low balance'\n",
    "    column.loc[(column[\"balance\"] > 500) & (column[\"balance\"] <= 3500), 'balance_group'] = 'avg balance'\n",
    "    column.loc[(column[\"balance\"] > 3500), 'balance_group'] = 'high balance'\n"
   ]
  },
  {
   "cell_type": "code",
   "execution_count": 33,
   "metadata": {},
   "outputs": [
    {
     "data": {
      "text/plain": [
       "['job',\n",
       " 'marital',\n",
       " 'education',\n",
       " 'default',\n",
       " 'housing',\n",
       " 'loan',\n",
       " 'contact',\n",
       " 'month',\n",
       " 'y',\n",
       " 'age_group',\n",
       " 'balance_group']"
      ]
     },
     "execution_count": 33,
     "metadata": {},
     "output_type": "execute_result"
    }
   ],
   "source": [
    "# add newly added categorial features (age_group and balance_group) to our list of categorical features. \n",
    "categorical_features.append('age_group')\n",
    "categorical_features.append('balance_group')\n",
    "categorical_features"
   ]
  },
  {
   "cell_type": "markdown",
   "metadata": {},
   "source": [
    "#### Age group and balance group"
   ]
  },
  {
   "cell_type": "code",
   "execution_count": 34,
   "metadata": {},
   "outputs": [],
   "source": [
    "# Group data frame into two groups based on target value\n",
    "df_group_by_target = df.groupby('y')\n",
    "for target,df_group in df_group_by_target:\n",
    "    if target == 'yes':\n",
    "        df_subscribed = df_group\n",
    "    if target == 'no':\n",
    "        df_unsubscribed = df_group"
   ]
  },
  {
   "cell_type": "code",
   "execution_count": 35,
   "metadata": {},
   "outputs": [
    {
     "data": {
      "text/html": [
       "<div>\n",
       "<style scoped>\n",
       "    .dataframe tbody tr th:only-of-type {\n",
       "        vertical-align: middle;\n",
       "    }\n",
       "\n",
       "    .dataframe tbody tr th {\n",
       "        vertical-align: top;\n",
       "    }\n",
       "\n",
       "    .dataframe thead th {\n",
       "        text-align: right;\n",
       "    }\n",
       "</style>\n",
       "<table border=\"1\" class=\"dataframe\">\n",
       "  <thead>\n",
       "    <tr style=\"text-align: right;\">\n",
       "      <th></th>\n",
       "      <th></th>\n",
       "      <th>% Subscription</th>\n",
       "      <th>Not Subscribed</th>\n",
       "      <th>Subscribed</th>\n",
       "      <th>Total</th>\n",
       "    </tr>\n",
       "  </thead>\n",
       "  <tbody>\n",
       "    <tr>\n",
       "      <th rowspan=\"4\" valign=\"top\">Age Group</th>\n",
       "      <th>35-50</th>\n",
       "      <td>6.39</td>\n",
       "      <td>18136</td>\n",
       "      <td>1238</td>\n",
       "      <td>19374</td>\n",
       "    </tr>\n",
       "    <tr>\n",
       "      <th>&lt;35</th>\n",
       "      <td>8.60</td>\n",
       "      <td>11950</td>\n",
       "      <td>1124</td>\n",
       "      <td>13074</td>\n",
       "    </tr>\n",
       "    <tr>\n",
       "      <th>50-65</th>\n",
       "      <td>6.47</td>\n",
       "      <td>6944</td>\n",
       "      <td>480</td>\n",
       "      <td>7424</td>\n",
       "    </tr>\n",
       "    <tr>\n",
       "      <th>65+</th>\n",
       "      <td>42.19</td>\n",
       "      <td>74</td>\n",
       "      <td>54</td>\n",
       "      <td>128</td>\n",
       "    </tr>\n",
       "    <tr>\n",
       "      <th rowspan=\"4\" valign=\"top\">Balance Group</th>\n",
       "      <th>avg balance</th>\n",
       "      <td>8.35</td>\n",
       "      <td>13237</td>\n",
       "      <td>1206</td>\n",
       "      <td>14443</td>\n",
       "    </tr>\n",
       "    <tr>\n",
       "      <th>low balance</th>\n",
       "      <td>6.37</td>\n",
       "      <td>13849</td>\n",
       "      <td>942</td>\n",
       "      <td>14791</td>\n",
       "    </tr>\n",
       "    <tr>\n",
       "      <th>no balance</th>\n",
       "      <td>5.42</td>\n",
       "      <td>6564</td>\n",
       "      <td>376</td>\n",
       "      <td>6940</td>\n",
       "    </tr>\n",
       "    <tr>\n",
       "      <th>high balance</th>\n",
       "      <td>9.72</td>\n",
       "      <td>3454</td>\n",
       "      <td>372</td>\n",
       "      <td>3826</td>\n",
       "    </tr>\n",
       "    <tr>\n",
       "      <th rowspan=\"4\" valign=\"top\">Season</th>\n",
       "      <th>spring [3-5]</th>\n",
       "      <td>8.28</td>\n",
       "      <td>15141</td>\n",
       "      <td>1367</td>\n",
       "      <td>16508</td>\n",
       "    </tr>\n",
       "    <tr>\n",
       "      <th>summer [6-8]</th>\n",
       "      <td>5.92</td>\n",
       "      <td>15363</td>\n",
       "      <td>966</td>\n",
       "      <td>16329</td>\n",
       "    </tr>\n",
       "    <tr>\n",
       "      <th>winter [12-2]</th>\n",
       "      <td>8.44</td>\n",
       "      <td>3191</td>\n",
       "      <td>294</td>\n",
       "      <td>3485</td>\n",
       "    </tr>\n",
       "    <tr>\n",
       "      <th>fall [9-11]</th>\n",
       "      <td>7.31</td>\n",
       "      <td>3409</td>\n",
       "      <td>269</td>\n",
       "      <td>3678</td>\n",
       "    </tr>\n",
       "  </tbody>\n",
       "</table>\n",
       "</div>"
      ],
      "text/plain": [
       "                             % Subscription  Not Subscribed  Subscribed  Total\n",
       "Age Group     35-50                    6.39           18136        1238  19374\n",
       "              <35                      8.60           11950        1124  13074\n",
       "              50-65                    6.47            6944         480   7424\n",
       "              65+                     42.19              74          54    128\n",
       "Balance Group avg balance              8.35           13237        1206  14443\n",
       "              low balance              6.37           13849         942  14791\n",
       "              no balance               5.42            6564         376   6940\n",
       "              high balance             9.72            3454         372   3826\n",
       "Season        spring [3-5]             8.28           15141        1367  16508\n",
       "              summer [6-8]             5.92           15363         966  16329\n",
       "              winter [12-2]            8.44            3191         294   3485\n",
       "              fall [9-11]              7.31            3409         269   3678"
      ]
     },
     "execution_count": 35,
     "metadata": {},
     "output_type": "execute_result"
    }
   ],
   "source": [
    "#Dictionaries for age group, balance group, and season\n",
    "dict_df_agegroup = create_df_sub(['age_group'])\n",
    "dict_df_balancegroup = create_df_sub(['balance_group'])\n",
    "dict_df_season = create_df_sub(['month'])\n",
    "#dataframes for each category\n",
    "df_agegroup = dict_df_agegroup['age_group']\n",
    "df_balancegroup = dict_df_balancegroup['balance_group']\n",
    "df_season = dict_df_season['month']\n",
    "#Combine datframes\n",
    "pd.concat([df_agegroup, df_balancegroup, df_season], keys=['Age Group', 'Balance Group', 'Season'],sort=True)"
   ]
  },
  {
   "cell_type": "markdown",
   "metadata": {},
   "source": [
    "**Age group:** Though the total number of subscribers is the largest for customer in age range of 35-50, senior customers (65+) have the highest rate of subscription. And also the next highest rate of subscriptions is occurs in age range <35. Insight is that in future telemarketing campaing, the bank should concentrate more on seniors and young individuals. \n",
    "\n",
    "**Balance group:** Customer with the high balance in their bank account have the highest rate of subscription, while customers with no balance have the lowest rate of subscription. Customers with average balance in their account have also significant rate of subscription.\n",
    "\n",
    "**Season:** The highest subscription occurs during spring and winter season due to spring being the tax season (customers have tax return money) and winter being the holiday and new year season (Customers are probably making new year resolution to invest)"
   ]
  },
  {
   "cell_type": "code",
   "execution_count": 36,
   "metadata": {},
   "outputs": [
    {
     "data": {
      "image/png": "[encoded data removed]",
      "text/plain": [
       "<Figure size 1008x432 with 2 Axes>"
      ]
     },
     "metadata": {},
     "output_type": "display_data"
    }
   ],
   "source": [
    "# plot distribution of customers per age group and balance group\n",
    "age_and_balance_group = ['age_group','balance_group']\n",
    "\n",
    "fig, (ax1, ax2) = plt.subplots(1, 2)\n",
    "fig.set_size_inches(14, 6)\n",
    "        \n",
    "plt.tight_layout()\n",
    "            \n",
    "sns.countplot(x= df['age_group'] , palette=['red','blue'], ax=ax1,hue=df['y'])\n",
    "    \n",
    "sns.countplot(x= df['balance_group'] , palette=['red','blue'], ax=ax2,hue=df['y'])\n",
    "            \n",
    "ax1.set_title('Contact count by Age Group',fontname='Comic Sans MS', fontsize=18)\n",
    "                     \n",
    "ax2.set_title('Contact count by Balance group',fontname='Comic Sans MS', fontsize=18);\n",
    "            "
   ]
  },
  {
   "cell_type": "markdown",
   "metadata": {},
   "source": [
    "#### Correlation of numerical features"
   ]
  },
  {
   "cell_type": "code",
   "execution_count": 37,
   "metadata": {},
   "outputs": [],
   "source": [
    "# create new Target feature mapping 'yes':1 and 'no':0 from feature 'y'\n",
    "df['Target'] = df['y'].map({'yes': 1, 'no': 0})"
   ]
  },
  {
   "cell_type": "code",
   "execution_count": 38,
   "metadata": {},
   "outputs": [],
   "source": [
    "corr = df.corr()\n",
    "#create an array of zeros like the corr dataframe\n",
    "mask = np.zeros_like(corr)\n",
    "#get indices of upper triangle of the mask array\n",
    "triangle_indices = np.triu_indices_from(mask)\n",
    "#assign upper traingle values of mask to True\n",
    "mask[triangle_indices] = True"
   ]
  },
  {
   "cell_type": "code",
   "execution_count": 39,
   "metadata": {},
   "outputs": [
    {
     "data": {
      "image/png": "[encoded data removed]",
      "text/plain": [
       "<Figure size 720x432 with 2 Axes>"
      ]
     },
     "metadata": {},
     "output_type": "display_data"
    }
   ],
   "source": [
    "# set figure size\n",
    "plt.figure(figsize=(10,6))\n",
    "sns.heatmap(corr,mask=mask,annot=True,annot_kws={'size':12},cmap='YlGnBu')\n",
    "plt.xticks(fontsize=12);"
   ]
  },
  {
   "cell_type": "code",
   "execution_count": 40,
   "metadata": {},
   "outputs": [
    {
     "data": {
      "text/plain": [
       "balance    0.03\n",
       "duration   0.46\n",
       "Target     1.00\n",
       "Name: Target, dtype: float64"
      ]
     },
     "execution_count": 40,
     "metadata": {},
     "output_type": "execute_result"
    }
   ],
   "source": [
    "# Correlation significance is determined based on p-value = 0.005. \n",
    "corr[corr.Target >= 0.005].Target"
   ]
  },
  {
   "cell_type": "markdown",
   "metadata": {},
   "source": [
    "Duration is highly positively correlated with target (Term deposit subscription) with a correlation value of 0.46, while balance the next feature that shows significant correlation with the Target. All other features are not significantly correlated with the Target. "
   ]
  },
  {
   "cell_type": "markdown",
   "metadata": {},
   "source": [
    "# END WRANGLING AND EDA\n",
    "## Save clean and organized data"
   ]
  },
  {
   "cell_type": "code",
   "execution_count": 41,
   "metadata": {},
   "outputs": [],
   "source": [
    "from library.sb_utils import save_file"
   ]
  },
  {
   "cell_type": "code",
   "execution_count": 42,
   "metadata": {},
   "outputs": [
    {
     "name": "stdout",
     "output_type": "stream",
     "text": [
      "A file already exists with this name.\n",
      "\n",
      "Do you want to overwrite? (Y/N)y\n",
      "Writing file.  \"../data\\bank_data_cleaned.csv\"\n"
     ]
    },
    {
     "data": {
      "text/html": [
       "<div>\n",
       "<style scoped>\n",
       "    .dataframe tbody tr th:only-of-type {\n",
       "        vertical-align: middle;\n",
       "    }\n",
       "\n",
       "    .dataframe tbody tr th {\n",
       "        vertical-align: top;\n",
       "    }\n",
       "\n",
       "    .dataframe thead th {\n",
       "        text-align: right;\n",
       "    }\n",
       "</style>\n",
       "<table border=\"1\" class=\"dataframe\">\n",
       "  <thead>\n",
       "    <tr style=\"text-align: right;\">\n",
       "      <th></th>\n",
       "      <th>age</th>\n",
       "      <th>job</th>\n",
       "      <th>marital</th>\n",
       "      <th>education</th>\n",
       "      <th>default</th>\n",
       "      <th>balance</th>\n",
       "      <th>housing</th>\n",
       "      <th>loan</th>\n",
       "      <th>contact</th>\n",
       "      <th>day</th>\n",
       "      <th>month</th>\n",
       "      <th>duration</th>\n",
       "      <th>campaign</th>\n",
       "      <th>y</th>\n",
       "      <th>Target</th>\n",
       "    </tr>\n",
       "  </thead>\n",
       "  <tbody>\n",
       "    <tr>\n",
       "      <th>0</th>\n",
       "      <td>58</td>\n",
       "      <td>management</td>\n",
       "      <td>married</td>\n",
       "      <td>tertiary</td>\n",
       "      <td>no</td>\n",
       "      <td>2143</td>\n",
       "      <td>yes</td>\n",
       "      <td>no</td>\n",
       "      <td>unknown</td>\n",
       "      <td>5</td>\n",
       "      <td>spring [3-5]</td>\n",
       "      <td>4.35</td>\n",
       "      <td>1</td>\n",
       "      <td>no</td>\n",
       "      <td>0</td>\n",
       "    </tr>\n",
       "    <tr>\n",
       "      <th>1</th>\n",
       "      <td>44</td>\n",
       "      <td>technician</td>\n",
       "      <td>single</td>\n",
       "      <td>secondary</td>\n",
       "      <td>no</td>\n",
       "      <td>29</td>\n",
       "      <td>yes</td>\n",
       "      <td>no</td>\n",
       "      <td>unknown</td>\n",
       "      <td>5</td>\n",
       "      <td>spring [3-5]</td>\n",
       "      <td>2.52</td>\n",
       "      <td>1</td>\n",
       "      <td>no</td>\n",
       "      <td>0</td>\n",
       "    </tr>\n",
       "    <tr>\n",
       "      <th>2</th>\n",
       "      <td>33</td>\n",
       "      <td>entrepreneur</td>\n",
       "      <td>married</td>\n",
       "      <td>secondary</td>\n",
       "      <td>no</td>\n",
       "      <td>2</td>\n",
       "      <td>yes</td>\n",
       "      <td>yes</td>\n",
       "      <td>unknown</td>\n",
       "      <td>5</td>\n",
       "      <td>spring [3-5]</td>\n",
       "      <td>1.27</td>\n",
       "      <td>1</td>\n",
       "      <td>no</td>\n",
       "      <td>0</td>\n",
       "    </tr>\n",
       "    <tr>\n",
       "      <th>3</th>\n",
       "      <td>47</td>\n",
       "      <td>blue-collar</td>\n",
       "      <td>married</td>\n",
       "      <td>unknown</td>\n",
       "      <td>no</td>\n",
       "      <td>1506</td>\n",
       "      <td>yes</td>\n",
       "      <td>no</td>\n",
       "      <td>unknown</td>\n",
       "      <td>5</td>\n",
       "      <td>spring [3-5]</td>\n",
       "      <td>1.53</td>\n",
       "      <td>1</td>\n",
       "      <td>no</td>\n",
       "      <td>0</td>\n",
       "    </tr>\n",
       "    <tr>\n",
       "      <th>4</th>\n",
       "      <td>33</td>\n",
       "      <td>unknown</td>\n",
       "      <td>single</td>\n",
       "      <td>unknown</td>\n",
       "      <td>no</td>\n",
       "      <td>1</td>\n",
       "      <td>no</td>\n",
       "      <td>no</td>\n",
       "      <td>unknown</td>\n",
       "      <td>5</td>\n",
       "      <td>spring [3-5]</td>\n",
       "      <td>3.30</td>\n",
       "      <td>1</td>\n",
       "      <td>no</td>\n",
       "      <td>0</td>\n",
       "    </tr>\n",
       "  </tbody>\n",
       "</table>\n",
       "</div>"
      ],
      "text/plain": [
       "   age           job  marital  education default  balance housing loan  \\\n",
       "0   58    management  married   tertiary      no     2143     yes   no   \n",
       "1   44    technician   single  secondary      no       29     yes   no   \n",
       "2   33  entrepreneur  married  secondary      no        2     yes  yes   \n",
       "3   47   blue-collar  married    unknown      no     1506     yes   no   \n",
       "4   33       unknown   single    unknown      no        1      no   no   \n",
       "\n",
       "   contact  day         month  duration  campaign   y  Target  \n",
       "0  unknown    5  spring [3-5]      4.35         1  no       0  \n",
       "1  unknown    5  spring [3-5]      2.52         1  no       0  \n",
       "2  unknown    5  spring [3-5]      1.27         1  no       0  \n",
       "3  unknown    5  spring [3-5]      1.53         1  no       0  \n",
       "4  unknown    5  spring [3-5]      3.30         1  no       0  "
      ]
     },
     "execution_count": 42,
     "metadata": {},
     "output_type": "execute_result"
    }
   ],
   "source": [
    "df_temp = df.drop(columns=['age_group','balance_group'])\n",
    "df.head()\n",
    "# save the data to a new csv file\n",
    "datapath = '../data'\n",
    "save_file(df_temp, 'bank_data_cleaned.csv', datapath)\n",
    "df_temp.head()"
   ]
  },
  {
   "cell_type": "markdown",
   "metadata": {},
   "source": [
    "# Preprocessing and data preparation for modeling\n",
    "## Load the cleaned data set"
   ]
  },
  {
   "cell_type": "code",
   "execution_count": 43,
   "metadata": {},
   "outputs": [
    {
     "data": {
      "text/plain": [
       "(40000, 15)"
      ]
     },
     "execution_count": 43,
     "metadata": {},
     "output_type": "execute_result"
    }
   ],
   "source": [
    "# set a path variable to the directory containing cleaned data:. ../data\n",
    "path = '../data'\n",
    "# Concatenate directory path to the file name: bank_path\n",
    "data_clean_path = path + '/bank_data_cleaned.csv'\n",
    "\n",
    "# load clean dataset into a dataframe: df_clean\n",
    "df_clean = pd.read_csv(data_clean_path)\n",
    "# check the shape of our data\n",
    "df_clean.shape"
   ]
  },
  {
   "cell_type": "code",
   "execution_count": 44,
   "metadata": {},
   "outputs": [
    {
     "name": "stdout",
     "output_type": "stream",
     "text": [
      "<class 'pandas.core.frame.DataFrame'>\n",
      "RangeIndex: 40000 entries, 0 to 39999\n",
      "Data columns (total 15 columns):\n",
      " #   Column     Non-Null Count  Dtype  \n",
      "---  ------     --------------  -----  \n",
      " 0   age        40000 non-null  int64  \n",
      " 1   job        40000 non-null  object \n",
      " 2   marital    40000 non-null  object \n",
      " 3   education  40000 non-null  object \n",
      " 4   default    40000 non-null  object \n",
      " 5   balance    40000 non-null  int64  \n",
      " 6   housing    40000 non-null  object \n",
      " 7   loan       40000 non-null  object \n",
      " 8   contact    40000 non-null  object \n",
      " 9   day        40000 non-null  int64  \n",
      " 10  month      40000 non-null  object \n",
      " 11  duration   40000 non-null  float64\n",
      " 12  campaign   40000 non-null  int64  \n",
      " 13  y          40000 non-null  object \n",
      " 14  Target     40000 non-null  int64  \n",
      "dtypes: float64(1), int64(5), object(9)\n",
      "memory usage: 4.6+ MB\n"
     ]
    }
   ],
   "source": [
    "# Quick preview information of dataframe: \n",
    "df_clean.info()"
   ]
  },
  {
   "cell_type": "markdown",
   "metadata": {},
   "source": [
    "## Remove features not related to customers\n",
    "\n",
    "In this project our objective is to predict response of customers to future telemarketing campaign given a given set of customer information, features related to the campaign and other features not related directly to the customers themselves should be excluded when developing our predictive machine learning model. In our dataset, the feature relevant to the customers are the demographics (age,job,marital,education) and cucstomer financial data (default,balance,housing,loan). Only these 8 features and the response (target) variable should be considered when we develop our model. "
   ]
  },
  {
   "cell_type": "code",
   "execution_count": 45,
   "metadata": {},
   "outputs": [],
   "source": [
    "# create list of irrelevant features: feature_to_drop\n",
    "features_to_drop = ['campaign','month','day','y','contact']"
   ]
  },
  {
   "cell_type": "code",
   "execution_count": 46,
   "metadata": {},
   "outputs": [],
   "source": [
    "# Drop irrelevant features\n",
    "df_clean.drop(features_to_drop,axis=1, inplace=True)"
   ]
  },
  {
   "cell_type": "code",
   "execution_count": 47,
   "metadata": {},
   "outputs": [
    {
     "data": {
      "text/html": [
       "<div>\n",
       "<style scoped>\n",
       "    .dataframe tbody tr th:only-of-type {\n",
       "        vertical-align: middle;\n",
       "    }\n",
       "\n",
       "    .dataframe tbody tr th {\n",
       "        vertical-align: top;\n",
       "    }\n",
       "\n",
       "    .dataframe thead th {\n",
       "        text-align: right;\n",
       "    }\n",
       "</style>\n",
       "<table border=\"1\" class=\"dataframe\">\n",
       "  <thead>\n",
       "    <tr style=\"text-align: right;\">\n",
       "      <th></th>\n",
       "      <th>age</th>\n",
       "      <th>job</th>\n",
       "      <th>marital</th>\n",
       "      <th>education</th>\n",
       "      <th>default</th>\n",
       "      <th>balance</th>\n",
       "      <th>housing</th>\n",
       "      <th>loan</th>\n",
       "      <th>duration</th>\n",
       "      <th>Target</th>\n",
       "    </tr>\n",
       "  </thead>\n",
       "  <tbody>\n",
       "    <tr>\n",
       "      <th>0</th>\n",
       "      <td>58</td>\n",
       "      <td>management</td>\n",
       "      <td>married</td>\n",
       "      <td>tertiary</td>\n",
       "      <td>no</td>\n",
       "      <td>2143</td>\n",
       "      <td>yes</td>\n",
       "      <td>no</td>\n",
       "      <td>4.35</td>\n",
       "      <td>0</td>\n",
       "    </tr>\n",
       "    <tr>\n",
       "      <th>1</th>\n",
       "      <td>44</td>\n",
       "      <td>technician</td>\n",
       "      <td>single</td>\n",
       "      <td>secondary</td>\n",
       "      <td>no</td>\n",
       "      <td>29</td>\n",
       "      <td>yes</td>\n",
       "      <td>no</td>\n",
       "      <td>2.52</td>\n",
       "      <td>0</td>\n",
       "    </tr>\n",
       "    <tr>\n",
       "      <th>2</th>\n",
       "      <td>33</td>\n",
       "      <td>entrepreneur</td>\n",
       "      <td>married</td>\n",
       "      <td>secondary</td>\n",
       "      <td>no</td>\n",
       "      <td>2</td>\n",
       "      <td>yes</td>\n",
       "      <td>yes</td>\n",
       "      <td>1.27</td>\n",
       "      <td>0</td>\n",
       "    </tr>\n",
       "    <tr>\n",
       "      <th>3</th>\n",
       "      <td>47</td>\n",
       "      <td>blue-collar</td>\n",
       "      <td>married</td>\n",
       "      <td>unknown</td>\n",
       "      <td>no</td>\n",
       "      <td>1506</td>\n",
       "      <td>yes</td>\n",
       "      <td>no</td>\n",
       "      <td>1.53</td>\n",
       "      <td>0</td>\n",
       "    </tr>\n",
       "    <tr>\n",
       "      <th>4</th>\n",
       "      <td>33</td>\n",
       "      <td>unknown</td>\n",
       "      <td>single</td>\n",
       "      <td>unknown</td>\n",
       "      <td>no</td>\n",
       "      <td>1</td>\n",
       "      <td>no</td>\n",
       "      <td>no</td>\n",
       "      <td>3.30</td>\n",
       "      <td>0</td>\n",
       "    </tr>\n",
       "  </tbody>\n",
       "</table>\n",
       "</div>"
      ],
      "text/plain": [
       "   age           job  marital  education default  balance housing loan  \\\n",
       "0   58    management  married   tertiary      no     2143     yes   no   \n",
       "1   44    technician   single  secondary      no       29     yes   no   \n",
       "2   33  entrepreneur  married  secondary      no        2     yes  yes   \n",
       "3   47   blue-collar  married    unknown      no     1506     yes   no   \n",
       "4   33       unknown   single    unknown      no        1      no   no   \n",
       "\n",
       "   duration  Target  \n",
       "0      4.35       0  \n",
       "1      2.52       0  \n",
       "2      1.27       0  \n",
       "3      1.53       0  \n",
       "4      3.30       0  "
      ]
     },
     "execution_count": 47,
     "metadata": {},
     "output_type": "execute_result"
    }
   ],
   "source": [
    "# quickly preview of the dataframe.\n",
    "df_clean.head()"
   ]
  },
  {
   "cell_type": "code",
   "execution_count": 48,
   "metadata": {},
   "outputs": [
    {
     "name": "stdout",
     "output_type": "stream",
     "text": [
      "<class 'pandas.core.frame.DataFrame'>\n",
      "RangeIndex: 40000 entries, 0 to 39999\n",
      "Data columns (total 10 columns):\n",
      " #   Column     Non-Null Count  Dtype  \n",
      "---  ------     --------------  -----  \n",
      " 0   age        40000 non-null  int64  \n",
      " 1   job        40000 non-null  object \n",
      " 2   marital    40000 non-null  object \n",
      " 3   education  40000 non-null  object \n",
      " 4   default    40000 non-null  object \n",
      " 5   balance    40000 non-null  int64  \n",
      " 6   housing    40000 non-null  object \n",
      " 7   loan       40000 non-null  object \n",
      " 8   duration   40000 non-null  float64\n",
      " 9   Target     40000 non-null  int64  \n",
      "dtypes: float64(1), int64(3), object(6)\n",
      "memory usage: 3.1+ MB\n"
     ]
    }
   ],
   "source": [
    "# Get overview information of our dataset\n",
    "df_clean.info();"
   ]
  },
  {
   "cell_type": "markdown",
   "metadata": {},
   "source": [
    "## Transforming categorical features to numerical\n",
    "\n",
    "Machine learning algorithms do not work with categorical features. Only features with numberical values are employed by all machine learning algorithms. Hence, categorical features have to be transformed to numbers. As shown above our dataset consists of 7 categorical features. For example the feature `\\hl{education}` consisted of text labels `{\\color{blue} tertiary, secondary, primary, unknown}`. One may map the numbers 1, 2, 3, ,4 to each of the text labels of the feature and thereby transform the categorical feature to numerical feature called {\\color{blue} \\textbf{ordinal feature}}. At first, this kind of mapping may seem to make some sense with 1 corresponding to the highest educational level and 4 to the lowest level. Nevertheless, when in employed in a machine learning model it will be treated just like any other numerical. Specifically, for models that seek to find a linear relationship between features and response the encoding might might lead to undesirable effect. Depending on how linear the relationship of the features and the response variable, such ordinal encoding might work well or not. Nevertheless, the limitation imposed by ordinal transformation could be avoided by the use of another versatile and popular method of categorical encoding called one-hot encoding (OHE). \n",
    "\n",
    "One-hot encoding (OHE) is a way to encode categorical features without intoducing unintended feature/response relationships like an ordinal encoding, by expanding the categorical feature into as many new features as the number of distinct feature values. For example, in our case OHE will split the feature `\\hl{education}` into 4 columns corresponding to the number of text labels. Every row will have a value equal to '1' in exactly one column and a '0' elsewhere.   \n",
    "\n",
    "It must be noted that in the case of a categorical feature with at most 2 unique values, the use of of ordinal encoding is justified as two points always define a straight line. Hence, any model including a model that seeks a linear relationship should work well. "
   ]
  },
  {
   "cell_type": "code",
   "execution_count": 49,
   "metadata": {},
   "outputs": [
    {
     "data": {
      "text/html": [
       "<div>\n",
       "<style scoped>\n",
       "    .dataframe tbody tr th:only-of-type {\n",
       "        vertical-align: middle;\n",
       "    }\n",
       "\n",
       "    .dataframe tbody tr th {\n",
       "        vertical-align: top;\n",
       "    }\n",
       "\n",
       "    .dataframe thead th {\n",
       "        text-align: right;\n",
       "    }\n",
       "</style>\n",
       "<table border=\"1\" class=\"dataframe\">\n",
       "  <thead>\n",
       "    <tr style=\"text-align: right;\">\n",
       "      <th></th>\n",
       "      <th>age</th>\n",
       "      <th>job</th>\n",
       "      <th>marital</th>\n",
       "      <th>education</th>\n",
       "      <th>default</th>\n",
       "      <th>balance</th>\n",
       "      <th>housing</th>\n",
       "      <th>loan</th>\n",
       "      <th>duration</th>\n",
       "      <th>Target</th>\n",
       "    </tr>\n",
       "  </thead>\n",
       "  <tbody>\n",
       "    <tr>\n",
       "      <th>0</th>\n",
       "      <td>58</td>\n",
       "      <td>management</td>\n",
       "      <td>married</td>\n",
       "      <td>tertiary</td>\n",
       "      <td>0</td>\n",
       "      <td>2143</td>\n",
       "      <td>1</td>\n",
       "      <td>0</td>\n",
       "      <td>4.35</td>\n",
       "      <td>0</td>\n",
       "    </tr>\n",
       "    <tr>\n",
       "      <th>1</th>\n",
       "      <td>44</td>\n",
       "      <td>technician</td>\n",
       "      <td>single</td>\n",
       "      <td>secondary</td>\n",
       "      <td>0</td>\n",
       "      <td>29</td>\n",
       "      <td>1</td>\n",
       "      <td>0</td>\n",
       "      <td>2.52</td>\n",
       "      <td>0</td>\n",
       "    </tr>\n",
       "    <tr>\n",
       "      <th>2</th>\n",
       "      <td>33</td>\n",
       "      <td>entrepreneur</td>\n",
       "      <td>married</td>\n",
       "      <td>secondary</td>\n",
       "      <td>0</td>\n",
       "      <td>2</td>\n",
       "      <td>1</td>\n",
       "      <td>1</td>\n",
       "      <td>1.27</td>\n",
       "      <td>0</td>\n",
       "    </tr>\n",
       "    <tr>\n",
       "      <th>3</th>\n",
       "      <td>47</td>\n",
       "      <td>blue-collar</td>\n",
       "      <td>married</td>\n",
       "      <td>unknown</td>\n",
       "      <td>0</td>\n",
       "      <td>1506</td>\n",
       "      <td>1</td>\n",
       "      <td>0</td>\n",
       "      <td>1.53</td>\n",
       "      <td>0</td>\n",
       "    </tr>\n",
       "    <tr>\n",
       "      <th>4</th>\n",
       "      <td>33</td>\n",
       "      <td>unknown</td>\n",
       "      <td>single</td>\n",
       "      <td>unknown</td>\n",
       "      <td>0</td>\n",
       "      <td>1</td>\n",
       "      <td>0</td>\n",
       "      <td>0</td>\n",
       "      <td>3.30</td>\n",
       "      <td>0</td>\n",
       "    </tr>\n",
       "  </tbody>\n",
       "</table>\n",
       "</div>"
      ],
      "text/plain": [
       "   age           job  marital  education  default  balance  housing  loan  \\\n",
       "0   58    management  married   tertiary        0     2143        1     0   \n",
       "1   44    technician   single  secondary        0       29        1     0   \n",
       "2   33  entrepreneur  married  secondary        0        2        1     1   \n",
       "3   47   blue-collar  married    unknown        0     1506        1     0   \n",
       "4   33       unknown   single    unknown        0        1        0     0   \n",
       "\n",
       "   duration  Target  \n",
       "0      4.35       0  \n",
       "1      2.52       0  \n",
       "2      1.27       0  \n",
       "3      1.53       0  \n",
       "4      3.30       0  "
      ]
     },
     "execution_count": 49,
     "metadata": {},
     "output_type": "execute_result"
    }
   ],
   "source": [
    "# transform two valued categorical features with ordinal encoding\n",
    "df_clean['housing'] = df_clean['housing'].map({'yes': 1, 'no': 0})\n",
    "df_clean['default'] = df_clean['default'].map({'yes': 1, 'no': 0})\n",
    "df_clean['loan'] = df_clean['loan'].map({'yes': 1, 'no': 0})\n",
    "df_clean.head()"
   ]
  },
  {
   "cell_type": "code",
   "execution_count": 50,
   "metadata": {},
   "outputs": [],
   "source": [
    "# One hot encode the remaining three categorical features\n",
    "df_final = pd.get_dummies(df_clean,drop_first=True)"
   ]
  },
  {
   "cell_type": "code",
   "execution_count": 51,
   "metadata": {},
   "outputs": [
    {
     "data": {
      "text/html": [
       "<div>\n",
       "<style scoped>\n",
       "    .dataframe tbody tr th:only-of-type {\n",
       "        vertical-align: middle;\n",
       "    }\n",
       "\n",
       "    .dataframe tbody tr th {\n",
       "        vertical-align: top;\n",
       "    }\n",
       "\n",
       "    .dataframe thead th {\n",
       "        text-align: right;\n",
       "    }\n",
       "</style>\n",
       "<table border=\"1\" class=\"dataframe\">\n",
       "  <thead>\n",
       "    <tr style=\"text-align: right;\">\n",
       "      <th></th>\n",
       "      <th>age</th>\n",
       "      <th>default</th>\n",
       "      <th>balance</th>\n",
       "      <th>housing</th>\n",
       "      <th>loan</th>\n",
       "      <th>duration</th>\n",
       "      <th>Target</th>\n",
       "      <th>job_blue-collar</th>\n",
       "      <th>job_entrepreneur</th>\n",
       "      <th>job_housemaid</th>\n",
       "      <th>...</th>\n",
       "      <th>job_services</th>\n",
       "      <th>job_student</th>\n",
       "      <th>job_technician</th>\n",
       "      <th>job_unemployed</th>\n",
       "      <th>job_unknown</th>\n",
       "      <th>marital_married</th>\n",
       "      <th>marital_single</th>\n",
       "      <th>education_secondary</th>\n",
       "      <th>education_tertiary</th>\n",
       "      <th>education_unknown</th>\n",
       "    </tr>\n",
       "  </thead>\n",
       "  <tbody>\n",
       "    <tr>\n",
       "      <th>0</th>\n",
       "      <td>58</td>\n",
       "      <td>0</td>\n",
       "      <td>2143</td>\n",
       "      <td>1</td>\n",
       "      <td>0</td>\n",
       "      <td>4.35</td>\n",
       "      <td>0</td>\n",
       "      <td>0</td>\n",
       "      <td>0</td>\n",
       "      <td>0</td>\n",
       "      <td>...</td>\n",
       "      <td>0</td>\n",
       "      <td>0</td>\n",
       "      <td>0</td>\n",
       "      <td>0</td>\n",
       "      <td>0</td>\n",
       "      <td>1</td>\n",
       "      <td>0</td>\n",
       "      <td>0</td>\n",
       "      <td>1</td>\n",
       "      <td>0</td>\n",
       "    </tr>\n",
       "    <tr>\n",
       "      <th>1</th>\n",
       "      <td>44</td>\n",
       "      <td>0</td>\n",
       "      <td>29</td>\n",
       "      <td>1</td>\n",
       "      <td>0</td>\n",
       "      <td>2.52</td>\n",
       "      <td>0</td>\n",
       "      <td>0</td>\n",
       "      <td>0</td>\n",
       "      <td>0</td>\n",
       "      <td>...</td>\n",
       "      <td>0</td>\n",
       "      <td>0</td>\n",
       "      <td>1</td>\n",
       "      <td>0</td>\n",
       "      <td>0</td>\n",
       "      <td>0</td>\n",
       "      <td>1</td>\n",
       "      <td>1</td>\n",
       "      <td>0</td>\n",
       "      <td>0</td>\n",
       "    </tr>\n",
       "    <tr>\n",
       "      <th>2</th>\n",
       "      <td>33</td>\n",
       "      <td>0</td>\n",
       "      <td>2</td>\n",
       "      <td>1</td>\n",
       "      <td>1</td>\n",
       "      <td>1.27</td>\n",
       "      <td>0</td>\n",
       "      <td>0</td>\n",
       "      <td>1</td>\n",
       "      <td>0</td>\n",
       "      <td>...</td>\n",
       "      <td>0</td>\n",
       "      <td>0</td>\n",
       "      <td>0</td>\n",
       "      <td>0</td>\n",
       "      <td>0</td>\n",
       "      <td>1</td>\n",
       "      <td>0</td>\n",
       "      <td>1</td>\n",
       "      <td>0</td>\n",
       "      <td>0</td>\n",
       "    </tr>\n",
       "    <tr>\n",
       "      <th>3</th>\n",
       "      <td>47</td>\n",
       "      <td>0</td>\n",
       "      <td>1506</td>\n",
       "      <td>1</td>\n",
       "      <td>0</td>\n",
       "      <td>1.53</td>\n",
       "      <td>0</td>\n",
       "      <td>1</td>\n",
       "      <td>0</td>\n",
       "      <td>0</td>\n",
       "      <td>...</td>\n",
       "      <td>0</td>\n",
       "      <td>0</td>\n",
       "      <td>0</td>\n",
       "      <td>0</td>\n",
       "      <td>0</td>\n",
       "      <td>1</td>\n",
       "      <td>0</td>\n",
       "      <td>0</td>\n",
       "      <td>0</td>\n",
       "      <td>1</td>\n",
       "    </tr>\n",
       "    <tr>\n",
       "      <th>4</th>\n",
       "      <td>33</td>\n",
       "      <td>0</td>\n",
       "      <td>1</td>\n",
       "      <td>0</td>\n",
       "      <td>0</td>\n",
       "      <td>3.30</td>\n",
       "      <td>0</td>\n",
       "      <td>0</td>\n",
       "      <td>0</td>\n",
       "      <td>0</td>\n",
       "      <td>...</td>\n",
       "      <td>0</td>\n",
       "      <td>0</td>\n",
       "      <td>0</td>\n",
       "      <td>0</td>\n",
       "      <td>1</td>\n",
       "      <td>0</td>\n",
       "      <td>1</td>\n",
       "      <td>0</td>\n",
       "      <td>0</td>\n",
       "      <td>1</td>\n",
       "    </tr>\n",
       "  </tbody>\n",
       "</table>\n",
       "<p>5 rows × 23 columns</p>\n",
       "</div>"
      ],
      "text/plain": [
       "   age  default  balance  housing  loan  duration  Target  job_blue-collar  \\\n",
       "0   58        0     2143        1     0      4.35       0                0   \n",
       "1   44        0       29        1     0      2.52       0                0   \n",
       "2   33        0        2        1     1      1.27       0                0   \n",
       "3   47        0     1506        1     0      1.53       0                1   \n",
       "4   33        0        1        0     0      3.30       0                0   \n",
       "\n",
       "   job_entrepreneur  job_housemaid  ...  job_services  job_student  \\\n",
       "0                 0              0  ...             0            0   \n",
       "1                 0              0  ...             0            0   \n",
       "2                 1              0  ...             0            0   \n",
       "3                 0              0  ...             0            0   \n",
       "4                 0              0  ...             0            0   \n",
       "\n",
       "   job_technician  job_unemployed  job_unknown  marital_married  \\\n",
       "0               0               0            0                1   \n",
       "1               1               0            0                0   \n",
       "2               0               0            0                1   \n",
       "3               0               0            0                1   \n",
       "4               0               0            1                0   \n",
       "\n",
       "   marital_single  education_secondary  education_tertiary  education_unknown  \n",
       "0               0                    0                   1                  0  \n",
       "1               1                    1                   0                  0  \n",
       "2               0                    1                   0                  0  \n",
       "3               0                    0                   0                  1  \n",
       "4               1                    0                   0                  1  \n",
       "\n",
       "[5 rows x 23 columns]"
      ]
     },
     "execution_count": 51,
     "metadata": {},
     "output_type": "execute_result"
    }
   ],
   "source": [
    "# quick view of the dataset\n",
    "df_final.head()"
   ]
  },
  {
   "cell_type": "code",
   "execution_count": 52,
   "metadata": {},
   "outputs": [
    {
     "name": "stdout",
     "output_type": "stream",
     "text": [
      "<class 'pandas.core.frame.DataFrame'>\n",
      "RangeIndex: 40000 entries, 0 to 39999\n",
      "Columns: 23 entries, age to education_unknown\n",
      "dtypes: float64(1), int64(6), uint8(16)\n",
      "memory usage: 2.7 MB\n"
     ]
    }
   ],
   "source": [
    "# Check that all features are now numerical\n",
    "df_final.info(verbose=False)"
   ]
  },
  {
   "cell_type": "code",
   "execution_count": 53,
   "metadata": {},
   "outputs": [],
   "source": [
    "# shift the feature named 'Target' to be the first column in the dataframe\n",
    "first_column = df_final.pop('Target');"
   ]
  },
  {
   "cell_type": "code",
   "execution_count": 54,
   "metadata": {},
   "outputs": [
    {
     "name": "stdout",
     "output_type": "stream",
     "text": [
      "<class 'pandas.core.frame.DataFrame'>\n",
      "RangeIndex: 40000 entries, 0 to 39999\n",
      "Columns: 22 entries, age to education_unknown\n",
      "dtypes: float64(1), int64(5), uint8(16)\n",
      "memory usage: 2.4 MB\n"
     ]
    }
   ],
   "source": [
    "df_final.info(verbose=False)"
   ]
  },
  {
   "cell_type": "code",
   "execution_count": 55,
   "metadata": {},
   "outputs": [],
   "source": [
    "# insert column using insert(position,column_name,\n",
    "# first_column) function\n",
    "df_final.insert(0, 'Target', first_column)"
   ]
  },
  {
   "cell_type": "code",
   "execution_count": 56,
   "metadata": {},
   "outputs": [
    {
     "data": {
      "text/html": [
       "<div>\n",
       "<style scoped>\n",
       "    .dataframe tbody tr th:only-of-type {\n",
       "        vertical-align: middle;\n",
       "    }\n",
       "\n",
       "    .dataframe tbody tr th {\n",
       "        vertical-align: top;\n",
       "    }\n",
       "\n",
       "    .dataframe thead th {\n",
       "        text-align: right;\n",
       "    }\n",
       "</style>\n",
       "<table border=\"1\" class=\"dataframe\">\n",
       "  <thead>\n",
       "    <tr style=\"text-align: right;\">\n",
       "      <th></th>\n",
       "      <th>Target</th>\n",
       "      <th>age</th>\n",
       "      <th>default</th>\n",
       "      <th>balance</th>\n",
       "      <th>housing</th>\n",
       "      <th>loan</th>\n",
       "      <th>duration</th>\n",
       "      <th>job_blue-collar</th>\n",
       "      <th>job_entrepreneur</th>\n",
       "      <th>job_housemaid</th>\n",
       "      <th>...</th>\n",
       "      <th>job_services</th>\n",
       "      <th>job_student</th>\n",
       "      <th>job_technician</th>\n",
       "      <th>job_unemployed</th>\n",
       "      <th>job_unknown</th>\n",
       "      <th>marital_married</th>\n",
       "      <th>marital_single</th>\n",
       "      <th>education_secondary</th>\n",
       "      <th>education_tertiary</th>\n",
       "      <th>education_unknown</th>\n",
       "    </tr>\n",
       "  </thead>\n",
       "  <tbody>\n",
       "    <tr>\n",
       "      <th>0</th>\n",
       "      <td>0</td>\n",
       "      <td>58</td>\n",
       "      <td>0</td>\n",
       "      <td>2143</td>\n",
       "      <td>1</td>\n",
       "      <td>0</td>\n",
       "      <td>4.35</td>\n",
       "      <td>0</td>\n",
       "      <td>0</td>\n",
       "      <td>0</td>\n",
       "      <td>...</td>\n",
       "      <td>0</td>\n",
       "      <td>0</td>\n",
       "      <td>0</td>\n",
       "      <td>0</td>\n",
       "      <td>0</td>\n",
       "      <td>1</td>\n",
       "      <td>0</td>\n",
       "      <td>0</td>\n",
       "      <td>1</td>\n",
       "      <td>0</td>\n",
       "    </tr>\n",
       "    <tr>\n",
       "      <th>1</th>\n",
       "      <td>0</td>\n",
       "      <td>44</td>\n",
       "      <td>0</td>\n",
       "      <td>29</td>\n",
       "      <td>1</td>\n",
       "      <td>0</td>\n",
       "      <td>2.52</td>\n",
       "      <td>0</td>\n",
       "      <td>0</td>\n",
       "      <td>0</td>\n",
       "      <td>...</td>\n",
       "      <td>0</td>\n",
       "      <td>0</td>\n",
       "      <td>1</td>\n",
       "      <td>0</td>\n",
       "      <td>0</td>\n",
       "      <td>0</td>\n",
       "      <td>1</td>\n",
       "      <td>1</td>\n",
       "      <td>0</td>\n",
       "      <td>0</td>\n",
       "    </tr>\n",
       "    <tr>\n",
       "      <th>2</th>\n",
       "      <td>0</td>\n",
       "      <td>33</td>\n",
       "      <td>0</td>\n",
       "      <td>2</td>\n",
       "      <td>1</td>\n",
       "      <td>1</td>\n",
       "      <td>1.27</td>\n",
       "      <td>0</td>\n",
       "      <td>1</td>\n",
       "      <td>0</td>\n",
       "      <td>...</td>\n",
       "      <td>0</td>\n",
       "      <td>0</td>\n",
       "      <td>0</td>\n",
       "      <td>0</td>\n",
       "      <td>0</td>\n",
       "      <td>1</td>\n",
       "      <td>0</td>\n",
       "      <td>1</td>\n",
       "      <td>0</td>\n",
       "      <td>0</td>\n",
       "    </tr>\n",
       "    <tr>\n",
       "      <th>3</th>\n",
       "      <td>0</td>\n",
       "      <td>47</td>\n",
       "      <td>0</td>\n",
       "      <td>1506</td>\n",
       "      <td>1</td>\n",
       "      <td>0</td>\n",
       "      <td>1.53</td>\n",
       "      <td>1</td>\n",
       "      <td>0</td>\n",
       "      <td>0</td>\n",
       "      <td>...</td>\n",
       "      <td>0</td>\n",
       "      <td>0</td>\n",
       "      <td>0</td>\n",
       "      <td>0</td>\n",
       "      <td>0</td>\n",
       "      <td>1</td>\n",
       "      <td>0</td>\n",
       "      <td>0</td>\n",
       "      <td>0</td>\n",
       "      <td>1</td>\n",
       "    </tr>\n",
       "    <tr>\n",
       "      <th>4</th>\n",
       "      <td>0</td>\n",
       "      <td>33</td>\n",
       "      <td>0</td>\n",
       "      <td>1</td>\n",
       "      <td>0</td>\n",
       "      <td>0</td>\n",
       "      <td>3.30</td>\n",
       "      <td>0</td>\n",
       "      <td>0</td>\n",
       "      <td>0</td>\n",
       "      <td>...</td>\n",
       "      <td>0</td>\n",
       "      <td>0</td>\n",
       "      <td>0</td>\n",
       "      <td>0</td>\n",
       "      <td>1</td>\n",
       "      <td>0</td>\n",
       "      <td>1</td>\n",
       "      <td>0</td>\n",
       "      <td>0</td>\n",
       "      <td>1</td>\n",
       "    </tr>\n",
       "  </tbody>\n",
       "</table>\n",
       "<p>5 rows × 23 columns</p>\n",
       "</div>"
      ],
      "text/plain": [
       "   Target  age  default  balance  housing  loan  duration  job_blue-collar  \\\n",
       "0       0   58        0     2143        1     0      4.35                0   \n",
       "1       0   44        0       29        1     0      2.52                0   \n",
       "2       0   33        0        2        1     1      1.27                0   \n",
       "3       0   47        0     1506        1     0      1.53                1   \n",
       "4       0   33        0        1        0     0      3.30                0   \n",
       "\n",
       "   job_entrepreneur  job_housemaid  ...  job_services  job_student  \\\n",
       "0                 0              0  ...             0            0   \n",
       "1                 0              0  ...             0            0   \n",
       "2                 1              0  ...             0            0   \n",
       "3                 0              0  ...             0            0   \n",
       "4                 0              0  ...             0            0   \n",
       "\n",
       "   job_technician  job_unemployed  job_unknown  marital_married  \\\n",
       "0               0               0            0                1   \n",
       "1               1               0            0                0   \n",
       "2               0               0            0                1   \n",
       "3               0               0            0                1   \n",
       "4               0               0            1                0   \n",
       "\n",
       "   marital_single  education_secondary  education_tertiary  education_unknown  \n",
       "0               0                    0                   1                  0  \n",
       "1               1                    1                   0                  0  \n",
       "2               0                    1                   0                  0  \n",
       "3               0                    0                   0                  1  \n",
       "4               1                    0                   0                  1  \n",
       "\n",
       "[5 rows x 23 columns]"
      ]
     },
     "execution_count": 56,
     "metadata": {},
     "output_type": "execute_result"
    }
   ],
   "source": [
    "df_final.head()"
   ]
  },
  {
   "cell_type": "markdown",
   "metadata": {},
   "source": [
    "## Select dependent and independent features\n",
    "The first column named `Target` represent the outcome of the campaign and is selected as our independent feature while remaining 21 columns, which containg customer information are selected as dependent features. "
   ]
  },
  {
   "cell_type": "code",
   "execution_count": 57,
   "metadata": {},
   "outputs": [],
   "source": [
    "# dependent and independent features\n",
    "X = df_final.iloc[:,1:]\n",
    "y = df_final.iloc[:,0]"
   ]
  },
  {
   "cell_type": "code",
   "execution_count": 58,
   "metadata": {},
   "outputs": [
    {
     "data": {
      "text/plain": [
       "((40000, 22), (40000,))"
      ]
     },
     "execution_count": 58,
     "metadata": {},
     "output_type": "execute_result"
    }
   ],
   "source": [
    "# check the shape of dependent and independent features\n",
    "X.shape, y.shape"
   ]
  },
  {
   "cell_type": "markdown",
   "metadata": {},
   "source": [
    "#### Scale the data\n",
    "\n",
    "As we have features measured in many different units, with numbers that vary by orders of magnitude, start off by scaling them to put them all on a consistent scale. The StandardScaler scales each feature to zero mean and unit variance."
   ]
  },
  {
   "cell_type": "code",
   "execution_count": 59,
   "metadata": {},
   "outputs": [],
   "source": [
    "# Scale the feature data\n",
    "scaler = StandardScaler()\n",
    "X_scaled = scaler.fit_transform(X) "
   ]
  },
  {
   "cell_type": "markdown",
   "metadata": {},
   "source": [
    "## Properly set the random seed for ML\n",
    "\n",
    "Machine learning models make use of randomness in obvious and unexpected ways. At a conceptual level, this non-determinism may impact your model’s convergence rate, the stability of your results, and the final quality of a network.\n",
    "\n",
    "At a practical level, it means that you probably have difficulty reproducing the same results across runs for your model — even when you run the same script on the same training data. It could also lead to challenges in figuring out whether a change in performance is due to an actual model or data modification, or merely the result of a new random sample.\n",
    "\n",
    "### Where does randomness appear?\n",
    "**1. Data preparation:** in the case of a neural network, the shuffled batches will lead to different loss values across runs. This means your gradient values will be different across runs, and you will probably converge to a different local minima For specific types of data like time-series, audio, or text data plus specific types of models like LSTMs and RNNs, your data’s input order can dramatically impact model performance.\n",
    "\n",
    "**2. Data pre-processing:** Over or upsampling data when dealing with imbalanced dataset\n",
    "\n",
    "**3. Cross Validation:** Both K-fold and leave one out cross validation (LOOCV)\n",
    "\n",
    "**4. Weight initialization:** Weights often set randomly to [-1,1] or [0,1]\n",
    "\n",
    "**5. Hidden layers:** Drop out layers randomly ignore subset of nodes\n",
    "\n",
    "**6. Algorithms themselves:** Some models, such as Random Forest operate inherently on random selection\n"
   ]
  },
  {
   "cell_type": "markdown",
   "metadata": {},
   "source": [
    "### Achieving Reproducibility (Dealing with the random problem)\n",
    "\n",
    "To deal with the random problem (reproducibility problem) we follow the following steps."
   ]
  },
  {
   "cell_type": "code",
   "execution_count": 60,
   "metadata": {},
   "outputs": [],
   "source": [
    "# 1. set random seed value\n",
    "seed_value = 47\n",
    "\n",
    "os.environ['PYTHONHASHSEED']=str(seed_value)\n",
    "# 2. Set `python` built-in pseudo-random generator at a fixed value\n",
    "random.seed(seed_value)\n",
    "\n",
    "# 3. Set `numpy` pseudo-random generator at a fixed value\n",
    "np.random.seed(seed_value)"
   ]
  },
  {
   "cell_type": "markdown",
   "metadata": {},
   "source": [
    "## Train/test split the data\n",
    "In order to assess the predictive power of machine learning models it is important to split the data before training the model. The data split labeled as train is used to train the model, while the test split is reserved to assess the performance of the developed model. We splitted our dataset with train/test ratio of 80:20. "
   ]
  },
  {
   "cell_type": "code",
   "execution_count": 61,
   "metadata": {},
   "outputs": [],
   "source": [
    "# split the dataset into train/test split\n",
    "test_size= 0.20\n",
    "X_train, X_test, y_train, y_test= train_test_split(X_scaled, y, test_size=test_size, random_state=seed_value)"
   ]
  },
  {
   "cell_type": "markdown",
   "metadata": {},
   "source": [
    "# Machine learning Modeling"
   ]
  },
  {
   "cell_type": "markdown",
   "metadata": {},
   "source": [
    "## Lazy predict and Initial model selection .\n",
    "\n",
    "Lazy Predict helps build a lot of basic models without much code and helps understand which models works better without any parameter tuning.\n",
    "\n",
    "Free software: MIT license\n",
    "Documentation: https://lazypredict.readthedocs.io."
   ]
  },
  {
   "cell_type": "code",
   "execution_count": 62,
   "metadata": {},
   "outputs": [
    {
     "name": "stderr",
     "output_type": "stream",
     "text": [
      "100%|██████████| 29/29 [10:19<00:00, 21.37s/it] "
     ]
    },
    {
     "name": "stdout",
     "output_type": "stream",
     "text": [
      "                               Accuracy  Balanced Accuracy  ROC AUC  F1 Score  \\\n",
      "Model                                                                           \n",
      "NearestCentroid                    0.88               0.80     0.80      0.90   \n",
      "LinearDiscriminantAnalysis         0.94               0.69     0.69      0.93   \n",
      "QuadraticDiscriminantAnalysis      0.90               0.69     0.69      0.91   \n",
      "GaussianNB                         0.90               0.68     0.68      0.90   \n",
      "PassiveAggressiveClassifier        0.91               0.65     0.65      0.91   \n",
      "DecisionTreeClassifier             0.90               0.64     0.64      0.90   \n",
      "ExtraTreeClassifier                0.90               0.63     0.63      0.90   \n",
      "Perceptron                         0.90               0.63     0.63      0.90   \n",
      "LabelPropagation                   0.92               0.63     0.63      0.91   \n",
      "LabelSpreading                     0.92               0.63     0.63      0.91   \n",
      "AdaBoostClassifier                 0.93               0.62     0.62      0.92   \n",
      "KNeighborsClassifier               0.93               0.62     0.62      0.92   \n",
      "LGBMClassifier                     0.93               0.62     0.62      0.92   \n",
      "RandomForestClassifier             0.93               0.61     0.61      0.92   \n",
      "XGBClassifier                      0.93               0.61     0.61      0.92   \n",
      "BaggingClassifier                  0.93               0.61     0.61      0.91   \n",
      "ExtraTreesClassifier               0.93               0.61     0.61      0.91   \n",
      "LogisticRegression                 0.93               0.61     0.61      0.92   \n",
      "CalibratedClassifierCV             0.93               0.60     0.60      0.92   \n",
      "LinearSVC                          0.93               0.57     0.57      0.91   \n",
      "SVC                                0.93               0.57     0.57      0.91   \n",
      "RidgeClassifier                    0.93               0.55     0.55      0.91   \n",
      "RidgeClassifierCV                  0.93               0.55     0.55      0.91   \n",
      "BernoulliNB                        0.93               0.52     0.52      0.90   \n",
      "SGDClassifier                      0.93               0.50     0.50      0.89   \n",
      "DummyClassifier                    0.86               0.50     0.50      0.86   \n",
      "\n",
      "                               Time Taken  \n",
      "Model                                      \n",
      "NearestCentroid                      0.07  \n",
      "LinearDiscriminantAnalysis           0.35  \n",
      "QuadraticDiscriminantAnalysis        0.18  \n",
      "GaussianNB                           0.08  \n",
      "PassiveAggressiveClassifier          0.15  \n",
      "DecisionTreeClassifier               0.21  \n",
      "ExtraTreeClassifier                  0.08  \n",
      "Perceptron                           0.14  \n",
      "LabelPropagation                   152.71  \n",
      "LabelSpreading                     408.76  \n",
      "AdaBoostClassifier                   1.46  \n",
      "KNeighborsClassifier                 4.77  \n",
      "LGBMClassifier                       0.54  \n",
      "RandomForestClassifier               3.99  \n",
      "XGBClassifier                        1.73  \n",
      "BaggingClassifier                    1.31  \n",
      "ExtraTreesClassifier                 3.12  \n",
      "LogisticRegression                   0.19  \n",
      "CalibratedClassifierCV              18.92  \n",
      "LinearSVC                            7.12  \n",
      "SVC                                 13.07  \n",
      "RidgeClassifier                      0.14  \n",
      "RidgeClassifierCV                    0.16  \n",
      "BernoulliNB                          0.08  \n",
      "SGDClassifier                        0.21  \n",
      "DummyClassifier                      0.06  \n",
      "<class 'pandas.core.frame.DataFrame'>\n"
     ]
    },
    {
     "name": "stderr",
     "output_type": "stream",
     "text": [
      "\n"
     ]
    }
   ],
   "source": [
    "lzy_clf = LazyClassifier(verbose=0,ignore_warnings=True, custom_metric=None,random_state=seed_value)\n",
    "lzy_models,predictions = lzy_clf.fit(X_train, X_test, y_train, y_test)\n",
    "\n",
    "print(lzy_models)\n",
    "print(type(lzy_models))\n"
   ]
  },
  {
   "cell_type": "code",
   "execution_count": 63,
   "metadata": {},
   "outputs": [],
   "source": [
    "lzy_models['F1 Score_vs_time'] = lzy_models['F1 Score']/lzy_models['Time Taken']\n",
    "lzy_models;"
   ]
  },
  {
   "cell_type": "code",
   "execution_count": 64,
   "metadata": {},
   "outputs": [
    {
     "data": {
      "text/html": [
       "<div>\n",
       "<style scoped>\n",
       "    .dataframe tbody tr th:only-of-type {\n",
       "        vertical-align: middle;\n",
       "    }\n",
       "\n",
       "    .dataframe tbody tr th {\n",
       "        vertical-align: top;\n",
       "    }\n",
       "\n",
       "    .dataframe thead th {\n",
       "        text-align: right;\n",
       "    }\n",
       "</style>\n",
       "<table border=\"1\" class=\"dataframe\">\n",
       "  <thead>\n",
       "    <tr style=\"text-align: right;\">\n",
       "      <th></th>\n",
       "      <th>F1 Score</th>\n",
       "      <th>F1 Score_vs_time</th>\n",
       "    </tr>\n",
       "    <tr>\n",
       "      <th>Model</th>\n",
       "      <th></th>\n",
       "      <th></th>\n",
       "    </tr>\n",
       "  </thead>\n",
       "  <tbody>\n",
       "    <tr>\n",
       "      <th>LinearDiscriminantAnalysis</th>\n",
       "      <td>0.93</td>\n",
       "      <td>2.67</td>\n",
       "    </tr>\n",
       "    <tr>\n",
       "      <th>LGBMClassifier</th>\n",
       "      <td>0.92</td>\n",
       "      <td>1.71</td>\n",
       "    </tr>\n",
       "    <tr>\n",
       "      <th>AdaBoostClassifier</th>\n",
       "      <td>0.92</td>\n",
       "      <td>0.63</td>\n",
       "    </tr>\n",
       "    <tr>\n",
       "      <th>KNeighborsClassifier</th>\n",
       "      <td>0.92</td>\n",
       "      <td>0.19</td>\n",
       "    </tr>\n",
       "    <tr>\n",
       "      <th>LogisticRegression</th>\n",
       "      <td>0.92</td>\n",
       "      <td>4.89</td>\n",
       "    </tr>\n",
       "    <tr>\n",
       "      <th>RandomForestClassifier</th>\n",
       "      <td>0.92</td>\n",
       "      <td>0.23</td>\n",
       "    </tr>\n",
       "    <tr>\n",
       "      <th>XGBClassifier</th>\n",
       "      <td>0.92</td>\n",
       "      <td>0.53</td>\n",
       "    </tr>\n",
       "    <tr>\n",
       "      <th>CalibratedClassifierCV</th>\n",
       "      <td>0.92</td>\n",
       "      <td>0.05</td>\n",
       "    </tr>\n",
       "    <tr>\n",
       "      <th>BaggingClassifier</th>\n",
       "      <td>0.91</td>\n",
       "      <td>0.70</td>\n",
       "    </tr>\n",
       "    <tr>\n",
       "      <th>ExtraTreesClassifier</th>\n",
       "      <td>0.91</td>\n",
       "      <td>0.29</td>\n",
       "    </tr>\n",
       "    <tr>\n",
       "      <th>LabelSpreading</th>\n",
       "      <td>0.91</td>\n",
       "      <td>0.00</td>\n",
       "    </tr>\n",
       "    <tr>\n",
       "      <th>LinearSVC</th>\n",
       "      <td>0.91</td>\n",
       "      <td>0.13</td>\n",
       "    </tr>\n",
       "    <tr>\n",
       "      <th>LabelPropagation</th>\n",
       "      <td>0.91</td>\n",
       "      <td>0.01</td>\n",
       "    </tr>\n",
       "    <tr>\n",
       "      <th>PassiveAggressiveClassifier</th>\n",
       "      <td>0.91</td>\n",
       "      <td>6.20</td>\n",
       "    </tr>\n",
       "    <tr>\n",
       "      <th>SVC</th>\n",
       "      <td>0.91</td>\n",
       "      <td>0.07</td>\n",
       "    </tr>\n",
       "    <tr>\n",
       "      <th>QuadraticDiscriminantAnalysis</th>\n",
       "      <td>0.91</td>\n",
       "      <td>5.04</td>\n",
       "    </tr>\n",
       "    <tr>\n",
       "      <th>RidgeClassifierCV</th>\n",
       "      <td>0.91</td>\n",
       "      <td>5.58</td>\n",
       "    </tr>\n",
       "    <tr>\n",
       "      <th>RidgeClassifier</th>\n",
       "      <td>0.91</td>\n",
       "      <td>6.26</td>\n",
       "    </tr>\n",
       "    <tr>\n",
       "      <th>GaussianNB</th>\n",
       "      <td>0.90</td>\n",
       "      <td>10.75</td>\n",
       "    </tr>\n",
       "    <tr>\n",
       "      <th>DecisionTreeClassifier</th>\n",
       "      <td>0.90</td>\n",
       "      <td>4.29</td>\n",
       "    </tr>\n",
       "    <tr>\n",
       "      <th>ExtraTreeClassifier</th>\n",
       "      <td>0.90</td>\n",
       "      <td>11.52</td>\n",
       "    </tr>\n",
       "    <tr>\n",
       "      <th>Perceptron</th>\n",
       "      <td>0.90</td>\n",
       "      <td>6.62</td>\n",
       "    </tr>\n",
       "    <tr>\n",
       "      <th>NearestCentroid</th>\n",
       "      <td>0.90</td>\n",
       "      <td>12.46</td>\n",
       "    </tr>\n",
       "    <tr>\n",
       "      <th>BernoulliNB</th>\n",
       "      <td>0.90</td>\n",
       "      <td>11.45</td>\n",
       "    </tr>\n",
       "    <tr>\n",
       "      <th>SGDClassifier</th>\n",
       "      <td>0.89</td>\n",
       "      <td>4.33</td>\n",
       "    </tr>\n",
       "    <tr>\n",
       "      <th>DummyClassifier</th>\n",
       "      <td>0.86</td>\n",
       "      <td>13.72</td>\n",
       "    </tr>\n",
       "  </tbody>\n",
       "</table>\n",
       "</div>"
      ],
      "text/plain": [
       "                               F1 Score  F1 Score_vs_time\n",
       "Model                                                    \n",
       "LinearDiscriminantAnalysis         0.93              2.67\n",
       "LGBMClassifier                     0.92              1.71\n",
       "AdaBoostClassifier                 0.92              0.63\n",
       "KNeighborsClassifier               0.92              0.19\n",
       "LogisticRegression                 0.92              4.89\n",
       "RandomForestClassifier             0.92              0.23\n",
       "XGBClassifier                      0.92              0.53\n",
       "CalibratedClassifierCV             0.92              0.05\n",
       "BaggingClassifier                  0.91              0.70\n",
       "ExtraTreesClassifier               0.91              0.29\n",
       "LabelSpreading                     0.91              0.00\n",
       "LinearSVC                          0.91              0.13\n",
       "LabelPropagation                   0.91              0.01\n",
       "PassiveAggressiveClassifier        0.91              6.20\n",
       "SVC                                0.91              0.07\n",
       "QuadraticDiscriminantAnalysis      0.91              5.04\n",
       "RidgeClassifierCV                  0.91              5.58\n",
       "RidgeClassifier                    0.91              6.26\n",
       "GaussianNB                         0.90             10.75\n",
       "DecisionTreeClassifier             0.90              4.29\n",
       "ExtraTreeClassifier                0.90             11.52\n",
       "Perceptron                         0.90              6.62\n",
       "NearestCentroid                    0.90             12.46\n",
       "BernoulliNB                        0.90             11.45\n",
       "SGDClassifier                      0.89              4.33\n",
       "DummyClassifier                    0.86             13.72"
      ]
     },
     "execution_count": 64,
     "metadata": {},
     "output_type": "execute_result"
    }
   ],
   "source": [
    "lzy_models[['F1 Score','F1 Score_vs_time']].sort_values(by='F1 Score',ascending=False)"
   ]
  },
  {
   "cell_type": "code",
   "execution_count": 83,
   "metadata": {},
   "outputs": [],
   "source": [
    "lzy_models['AUC Score_vs_time'] = lzy_models['ROC AUC']/lzy_models['Time Taken']\n",
    "lzy_models;"
   ]
  },
  {
   "cell_type": "code",
   "execution_count": 84,
   "metadata": {},
   "outputs": [
    {
     "data": {
      "text/html": [
       "<div>\n",
       "<style scoped>\n",
       "    .dataframe tbody tr th:only-of-type {\n",
       "        vertical-align: middle;\n",
       "    }\n",
       "\n",
       "    .dataframe tbody tr th {\n",
       "        vertical-align: top;\n",
       "    }\n",
       "\n",
       "    .dataframe thead th {\n",
       "        text-align: right;\n",
       "    }\n",
       "</style>\n",
       "<table border=\"1\" class=\"dataframe\">\n",
       "  <thead>\n",
       "    <tr style=\"text-align: right;\">\n",
       "      <th></th>\n",
       "      <th>ROC AUC</th>\n",
       "      <th>AUC Score_vs_time</th>\n",
       "    </tr>\n",
       "    <tr>\n",
       "      <th>Model</th>\n",
       "      <th></th>\n",
       "      <th></th>\n",
       "    </tr>\n",
       "  </thead>\n",
       "  <tbody>\n",
       "    <tr>\n",
       "      <th>NearestCentroid</th>\n",
       "      <td>0.80</td>\n",
       "      <td>11.07</td>\n",
       "    </tr>\n",
       "    <tr>\n",
       "      <th>LinearDiscriminantAnalysis</th>\n",
       "      <td>0.69</td>\n",
       "      <td>1.99</td>\n",
       "    </tr>\n",
       "    <tr>\n",
       "      <th>QuadraticDiscriminantAnalysis</th>\n",
       "      <td>0.69</td>\n",
       "      <td>3.81</td>\n",
       "    </tr>\n",
       "    <tr>\n",
       "      <th>GaussianNB</th>\n",
       "      <td>0.68</td>\n",
       "      <td>8.11</td>\n",
       "    </tr>\n",
       "    <tr>\n",
       "      <th>PassiveAggressiveClassifier</th>\n",
       "      <td>0.65</td>\n",
       "      <td>4.41</td>\n",
       "    </tr>\n",
       "    <tr>\n",
       "      <th>DecisionTreeClassifier</th>\n",
       "      <td>0.64</td>\n",
       "      <td>3.04</td>\n",
       "    </tr>\n",
       "    <tr>\n",
       "      <th>ExtraTreeClassifier</th>\n",
       "      <td>0.63</td>\n",
       "      <td>8.08</td>\n",
       "    </tr>\n",
       "    <tr>\n",
       "      <th>Perceptron</th>\n",
       "      <td>0.63</td>\n",
       "      <td>4.64</td>\n",
       "    </tr>\n",
       "    <tr>\n",
       "      <th>LabelPropagation</th>\n",
       "      <td>0.63</td>\n",
       "      <td>0.00</td>\n",
       "    </tr>\n",
       "    <tr>\n",
       "      <th>LabelSpreading</th>\n",
       "      <td>0.63</td>\n",
       "      <td>0.00</td>\n",
       "    </tr>\n",
       "    <tr>\n",
       "      <th>AdaBoostClassifier</th>\n",
       "      <td>0.62</td>\n",
       "      <td>0.43</td>\n",
       "    </tr>\n",
       "    <tr>\n",
       "      <th>KNeighborsClassifier</th>\n",
       "      <td>0.62</td>\n",
       "      <td>0.13</td>\n",
       "    </tr>\n",
       "    <tr>\n",
       "      <th>LGBMClassifier</th>\n",
       "      <td>0.62</td>\n",
       "      <td>1.15</td>\n",
       "    </tr>\n",
       "    <tr>\n",
       "      <th>RandomForestClassifier</th>\n",
       "      <td>0.61</td>\n",
       "      <td>0.15</td>\n",
       "    </tr>\n",
       "    <tr>\n",
       "      <th>XGBClassifier</th>\n",
       "      <td>0.61</td>\n",
       "      <td>0.35</td>\n",
       "    </tr>\n",
       "    <tr>\n",
       "      <th>BaggingClassifier</th>\n",
       "      <td>0.61</td>\n",
       "      <td>0.46</td>\n",
       "    </tr>\n",
       "    <tr>\n",
       "      <th>ExtraTreesClassifier</th>\n",
       "      <td>0.61</td>\n",
       "      <td>0.19</td>\n",
       "    </tr>\n",
       "    <tr>\n",
       "      <th>LogisticRegression</th>\n",
       "      <td>0.61</td>\n",
       "      <td>3.23</td>\n",
       "    </tr>\n",
       "    <tr>\n",
       "      <th>CalibratedClassifierCV</th>\n",
       "      <td>0.60</td>\n",
       "      <td>0.03</td>\n",
       "    </tr>\n",
       "    <tr>\n",
       "      <th>LinearSVC</th>\n",
       "      <td>0.57</td>\n",
       "      <td>0.08</td>\n",
       "    </tr>\n",
       "    <tr>\n",
       "      <th>SVC</th>\n",
       "      <td>0.57</td>\n",
       "      <td>0.04</td>\n",
       "    </tr>\n",
       "    <tr>\n",
       "      <th>RidgeClassifier</th>\n",
       "      <td>0.55</td>\n",
       "      <td>3.80</td>\n",
       "    </tr>\n",
       "    <tr>\n",
       "      <th>RidgeClassifierCV</th>\n",
       "      <td>0.55</td>\n",
       "      <td>3.39</td>\n",
       "    </tr>\n",
       "    <tr>\n",
       "      <th>BernoulliNB</th>\n",
       "      <td>0.52</td>\n",
       "      <td>6.60</td>\n",
       "    </tr>\n",
       "    <tr>\n",
       "      <th>SGDClassifier</th>\n",
       "      <td>0.50</td>\n",
       "      <td>2.44</td>\n",
       "    </tr>\n",
       "    <tr>\n",
       "      <th>DummyClassifier</th>\n",
       "      <td>0.50</td>\n",
       "      <td>7.92</td>\n",
       "    </tr>\n",
       "  </tbody>\n",
       "</table>\n",
       "</div>"
      ],
      "text/plain": [
       "                               ROC AUC  AUC Score_vs_time\n",
       "Model                                                    \n",
       "NearestCentroid                   0.80              11.07\n",
       "LinearDiscriminantAnalysis        0.69               1.99\n",
       "QuadraticDiscriminantAnalysis     0.69               3.81\n",
       "GaussianNB                        0.68               8.11\n",
       "PassiveAggressiveClassifier       0.65               4.41\n",
       "DecisionTreeClassifier            0.64               3.04\n",
       "ExtraTreeClassifier               0.63               8.08\n",
       "Perceptron                        0.63               4.64\n",
       "LabelPropagation                  0.63               0.00\n",
       "LabelSpreading                    0.63               0.00\n",
       "AdaBoostClassifier                0.62               0.43\n",
       "KNeighborsClassifier              0.62               0.13\n",
       "LGBMClassifier                    0.62               1.15\n",
       "RandomForestClassifier            0.61               0.15\n",
       "XGBClassifier                     0.61               0.35\n",
       "BaggingClassifier                 0.61               0.46\n",
       "ExtraTreesClassifier              0.61               0.19\n",
       "LogisticRegression                0.61               3.23\n",
       "CalibratedClassifierCV            0.60               0.03\n",
       "LinearSVC                         0.57               0.08\n",
       "SVC                               0.57               0.04\n",
       "RidgeClassifier                   0.55               3.80\n",
       "RidgeClassifierCV                 0.55               3.39\n",
       "BernoulliNB                       0.52               6.60\n",
       "SGDClassifier                     0.50               2.44\n",
       "DummyClassifier                   0.50               7.92"
      ]
     },
     "execution_count": 84,
     "metadata": {},
     "output_type": "execute_result"
    }
   ],
   "source": [
    "lzy_models[['ROC AUC','AUC Score_vs_time']].sort_values(by='ROC AUC',ascending=False)"
   ]
  },
  {
   "cell_type": "markdown",
   "metadata": {},
   "source": [
    "Based on time and accuracy, the best performing three models are `BaggingClassifier`, `XGBClassifier`, `KNeighborsClassifier`, `LogisticRegression`, and `RandomForestClassifier`"
   ]
  },
  {
   "cell_type": "markdown",
   "metadata": {},
   "source": [
    "Now that we have prepared our dataset in the form that could be used by any machine learning algorith, in this chapter we will train a number of classification machine learning alogorithms with grid search parameter optimization and cross validation for evaluation during the training stage. Best perfoming model selected based an appropriate model metric will be tested with the test set of our data set which was held back during model training. \n",
    "\n",
    "##### Classification models\n",
    "\n",
    "The following list maching learning classification models will be tested.\n",
    "\n",
    "- Logistic regression\n",
    "- BaggingClassifier\n",
    "- Random Forest\n",
    "- Extreme Gradient boosting\n",
    "- K-neighbourhood classifier"
   ]
  },
  {
   "cell_type": "code",
   "execution_count": 65,
   "metadata": {},
   "outputs": [],
   "source": [
    "# Create a list containing the classification models to be used. \n",
    "models_list = []\n",
    "models_list.append(('LR', LogisticRegression(random_state=seed_value)))\n",
    "models_list.append(('KNN', KNeighborsClassifier()))\n",
    "models_list.append(('BAGCLF', BaggingClassifier(random_state=seed_value)))\n",
    "models_list.append(('XGBOOST',XGBClassifier()))\n",
    "models_list.append(('RF',RandomForestClassifier(random_state=seed_value)))"
   ]
  },
  {
   "cell_type": "markdown",
   "metadata": {},
   "source": [
    "## K-fold training data split and cross-validation\n",
    "\n",
    "Cross validation is an essential technique when using the training data. It opens up a better of use the training data set through multiple model evaluation (K-fold) during the training phase. It involves K-fold splitting of the training dataset where the training dataset is randomly split into K-folds or groups. During the training the first fold is kept for testing while the remaining `K-1` group are used for training. The training is repeated k times and each time a different split group is used for validation. However, it is worth noting that each fold should be a good representative of the whole training dataset. `Stratified K-fold` attempts to solve this issue by preserving class ratio when fold groups are created. \n",
    "\n"
   ]
  },
  {
   "cell_type": "code",
   "execution_count": 66,
   "metadata": {},
   "outputs": [],
   "source": [
    "# function for selecting a stratified or normal K-Fold depending on the value of is_stratified\n",
    "    \n",
    "def get_cross_validation_splitter(is_strattified=False):\n",
    "    kfold= None\n",
    "    if(not is_strattified):\n",
    "        kfold = KFold(n_splits=5,shuffle=True, random_state=seed_value)\n",
    "    else:\n",
    "        kfold = StratifiedKFold(n_splits=5,shuffle=True, random_state=seed_value)\n",
    "            \n",
    "    return kfold"
   ]
  },
  {
   "cell_type": "code",
   "execution_count": 67,
   "metadata": {},
   "outputs": [],
   "source": [
    "# call validation splitter function above\n",
    "# return value of function SHOULD be assigned to variable kfold\n",
    "kfold = get_cross_validation_splitter()"
   ]
  },
  {
   "cell_type": "code",
   "execution_count": 68,
   "metadata": {},
   "outputs": [],
   "source": [
    "# get stratified Kfold\n",
    "kfoldstratified = get_cross_validation_splitter(is_strattified=True)"
   ]
  },
  {
   "cell_type": "code",
   "execution_count": 69,
   "metadata": {},
   "outputs": [],
   "source": [
    "# Create dictionary containing model metrics\n",
    "model_scores = {'Accuracy':'accuracy','Recall':'recall','Precision':'precision','f1-score':'f1',\n",
    "                'AUC':'roc_auc'}\n",
    "#model_scores = {'AUC':'roc_auc'}"
   ]
  },
  {
   "cell_type": "markdown",
   "metadata": {},
   "source": [
    "### Model Selection With K-fold Cross Validation\n",
    "There are lots of models available today, easy to implement with tons of built-in library supports, from simple to complex mathematical calculations all performed by just calling the name of a function. Gradient Boosting, Logistic regression, SVMs, all just happens to be there to help you, just call for it. Looking at the bright side, we are presented with lots of options with no need to write complex code for mathematical calculations, but look again and with a big problem statement and a bigger dataset in hand, you will see that more choices mean more headache.\n",
    "\n",
    "The choice of a model can be broken down to some extent by understanding the problem and the data you are presented with. But What model to choose and which will give more optimal result is always a Data Scientist’s most self asked question and high variance in predictions with the same model is a Data Scientist’s worst nightmare.\n",
    "\n",
    "`K-Fold Cross-validation` is used to find out which model best fits a given data set and has a higher probability of giving a better accuracy on predictions.\n",
    "\n",
    "The above write up by AMAL NAIR which can be found from https://analyticsindiamag.com/k-fold-cross-validation-a-walkthrough-with-machinehacks-food-cost-prediction-hackathon/"
   ]
  },
  {
   "cell_type": "code",
   "execution_count": 70,
   "metadata": {},
   "outputs": [],
   "source": [
    "# function to create model performance and return a dataframe of model performances.\n",
    "def create_model_performance(x=X_train,y=y_train,models=models_list):\n",
    "    model_names = []\n",
    "\n",
    "    dict_model_performance = {}\n",
    "    for name, model in models:\n",
    "        results_c = []\n",
    "        results_dict = {}\n",
    "        model_sel = model\n",
    "#        model_sel.fit(X_train,y_train)\n",
    "        for score_name, score in model_scores.items():\n",
    "# define how to split off validation data ('kfold' how many folds)\n",
    "#        kfold = KFold(n_splits=5, random_state=Iseed)    \n",
    "# train the model\n",
    "#            model_sel = model\n",
    "#            model_sel.fit(X_train,y_train)\n",
    "            cv_results = cross_val_score(estimator=model_sel,X=X_train, y=y_train, cv=kfold, scoring=score)   \n",
    "            results_c.append(cv_results)\n",
    "            model_names.append(name)\n",
    "#            msg = \"%s: %f (%f)\" % (name, cv_results.mean(), cv_results.std())\n",
    "            results_dict[score_name] = float(round(cv_results.mean(),2))\n",
    "#    print(msg)\n",
    "        dict_model_performance[name] = results_dict\n",
    "    model_performance_df = pd.DataFrame(dict_model_performance)\n",
    "    return model_performance_df"
   ]
  },
  {
   "cell_type": "code",
   "execution_count": 71,
   "metadata": {},
   "outputs": [],
   "source": [
    "def create_single_metric(x=X_train,y=y_train,models=models_list,score='roc_auc'):\n",
    "    model_names = []\n",
    "\n",
    "    dict_model_performance = {}\n",
    "    for name, model in models:\n",
    "        results_c = []\n",
    "        results_dict = {}\n",
    "        model_sel = model\n",
    "#        model_sel.fit(X_train,y_train)\n",
    "#        for score_name, score in model_scores.items():\n",
    "# define how to split off validation data ('kfold' how many folds)\n",
    "#        kfold = KFold(n_splits=5, random_state=Iseed)    \n",
    "# train the model\n",
    "#            model_sel = model\n",
    "#            model_sel.fit(X_train,y_train)\n",
    "        cv_results = cross_val_score(estimator=model_sel,X=X_train, y=y_train, cv=kfold, scoring=score)   \n",
    "        results_c.append(cv_results)\n",
    "        model_names.append(name)\n",
    "#            msg = \"%s: %f (%f)\" % (name, cv_results.mean(), cv_results.std())\n",
    "        results_score = float(round(cv_results.mean(),2))\n",
    "#    print(msg)\n",
    "        dict_model_performance[name] = cv_results\n",
    "    model_performance_df = pd.DataFrame(dict_model_performance)\n",
    "    return model_performance_df"
   ]
  },
  {
   "cell_type": "code",
   "execution_count": 72,
   "metadata": {},
   "outputs": [
    {
     "name": "stdout",
     "output_type": "stream",
     "text": [
      "Regular K-fold: Model Evaluation Metrics\n"
     ]
    },
    {
     "data": {
      "text/html": [
       "<div>\n",
       "<style scoped>\n",
       "    .dataframe tbody tr th:only-of-type {\n",
       "        vertical-align: middle;\n",
       "    }\n",
       "\n",
       "    .dataframe tbody tr th {\n",
       "        vertical-align: top;\n",
       "    }\n",
       "\n",
       "    .dataframe thead th {\n",
       "        text-align: right;\n",
       "    }\n",
       "</style>\n",
       "<table border=\"1\" class=\"dataframe\">\n",
       "  <thead>\n",
       "    <tr style=\"text-align: right;\">\n",
       "      <th></th>\n",
       "      <th>LR</th>\n",
       "      <th>KNN</th>\n",
       "      <th>BAGCLF</th>\n",
       "      <th>XGBOOST</th>\n",
       "      <th>RF</th>\n",
       "    </tr>\n",
       "  </thead>\n",
       "  <tbody>\n",
       "    <tr>\n",
       "      <th>Accuracy</th>\n",
       "      <td>0.93</td>\n",
       "      <td>0.93</td>\n",
       "      <td>0.93</td>\n",
       "      <td>0.93</td>\n",
       "      <td>0.93</td>\n",
       "    </tr>\n",
       "    <tr>\n",
       "      <th>Recall</th>\n",
       "      <td>0.21</td>\n",
       "      <td>0.21</td>\n",
       "      <td>0.23</td>\n",
       "      <td>0.26</td>\n",
       "      <td>0.23</td>\n",
       "    </tr>\n",
       "    <tr>\n",
       "      <th>Precision</th>\n",
       "      <td>0.59</td>\n",
       "      <td>0.49</td>\n",
       "      <td>0.48</td>\n",
       "      <td>0.51</td>\n",
       "      <td>0.51</td>\n",
       "    </tr>\n",
       "    <tr>\n",
       "      <th>f1-score</th>\n",
       "      <td>0.32</td>\n",
       "      <td>0.29</td>\n",
       "      <td>0.31</td>\n",
       "      <td>0.35</td>\n",
       "      <td>0.32</td>\n",
       "    </tr>\n",
       "    <tr>\n",
       "      <th>AUC</th>\n",
       "      <td>0.89</td>\n",
       "      <td>0.77</td>\n",
       "      <td>0.83</td>\n",
       "      <td>0.88</td>\n",
       "      <td>0.87</td>\n",
       "    </tr>\n",
       "  </tbody>\n",
       "</table>\n",
       "</div>"
      ],
      "text/plain": [
       "            LR  KNN  BAGCLF  XGBOOST   RF\n",
       "Accuracy  0.93 0.93    0.93     0.93 0.93\n",
       "Recall    0.21 0.21    0.23     0.26 0.23\n",
       "Precision 0.59 0.49    0.48     0.51 0.51\n",
       "f1-score  0.32 0.29    0.31     0.35 0.32\n",
       "AUC       0.89 0.77    0.83     0.88 0.87"
      ]
     },
     "execution_count": 72,
     "metadata": {},
     "output_type": "execute_result"
    }
   ],
   "source": [
    "model_performance_regular_kfold_df = create_model_performance()\n",
    "print('Regular K-fold: Model Evaluation Metrics')\n",
    "model_performance_regular_kfold_df.head(12)"
   ]
  },
  {
   "cell_type": "code",
   "execution_count": 73,
   "metadata": {},
   "outputs": [],
   "source": [
    "model_AUC_regular_kfold_df = create_single_metric()"
   ]
  },
  {
   "cell_type": "code",
   "execution_count": 74,
   "metadata": {},
   "outputs": [],
   "source": [
    "# Create stratified k-fold split with is_stratified = True\n",
    "kfold = get_cross_validation_splitter(is_strattified=True)"
   ]
  },
  {
   "cell_type": "code",
   "execution_count": 75,
   "metadata": {},
   "outputs": [],
   "source": [
    "model_AUC_stratified_kfold_df = create_single_metric()"
   ]
  },
  {
   "cell_type": "code",
   "execution_count": 76,
   "metadata": {},
   "outputs": [
    {
     "data": {
      "image/png": "[encoded data removed]",
      "text/plain": [
       "<Figure size 972x396 with 2 Axes>"
      ]
     },
     "metadata": {},
     "output_type": "display_data"
    }
   ],
   "source": [
    "fig, (ax1,ax2) = plt.subplots(1,2)\n",
    "fig.set_size_inches(13.5, 5.5)\n",
    "fig.suptitle('Classification Performance of models',fontsize=20)\n",
    "sns.boxplot(x='variable', y='value',data=pd.melt(model_AUC_regular_kfold_df),ax=ax1)\n",
    "ax1.set_xlabel('Models', fontsize=12)\n",
    "ax1.set_ylabel('AUC score (%)', fontsize=14)\n",
    "ax1.set_title('Regular K-fold Cross Validation',fontsize=16)\n",
    "sns.boxplot(x='variable', y='value',data=pd.melt(model_AUC_stratified_kfold_df),ax=ax2)\n",
    "ax2.set_title('Stratified K-fold Cross Validation',fontsize=16)\n",
    "ax2.set_xlabel('Models', fontsize=12)\n",
    "ax2.set_ylabel('', fontsize=14)\n",
    "ax2.tick_params(axis='both',labelsize=13)\n",
    "ax1.tick_params(axis='both',labelsize=13)\n",
    "y_value1=['{:,.1f}'.format(100*x) + '%' for x in ax1.get_yticks()]\n",
    "ax1.set_yticklabels(y_value1)\n",
    "y_value2=['{:,.1f}'.format(100*x) + '%' for x in ax2.get_yticks()]\n",
    "ax2.set_yticklabels(y_value2);"
   ]
  },
  {
   "cell_type": "markdown",
   "metadata": {},
   "source": [
    "### The imbalanced data set problem\n",
    "Clearly our data set is imbalanced and we have to resample it before model training. The impacts of imbalanced data are implicit, i.e. it does not raise an immediate error when you build and run your model, but the results can be delusive.\n",
    "\n",
    "#### How to deal with imbalanced data?\n",
    "Several solutions have been suggested in the literature to address this problem, amongst which are:\n",
    "\n",
    "- `Data-level techniques` — At the data level, solutions work by applying resampling techniques to balance the dataset. These can be done by oversampling the minority class, which is to synthetically create new instances from existing ones; or undersampling the majority class, which eliminates some instances in the majority class. However, both techniques can have their drawbacks. Oversampling new data can cause the classifier to overfit; whereas undersampling can discard essential information. A combination of both techniques with a heuristic approach can be found in specialized literature with excellent results.\n",
    "\n",
    "- `Algorithmic-level techniques` —Algorithmic level solutions can be done by adjusting weighted costs accordingly to the number of training instances in each class. In parametric classifier like Support Vector Machine, grid search and cross-validation can be applied to optimise the C and gamma values. For non-parametric classifier like the decision tree, adjusting the probabilistic estimate at the tree leaf can improve the performance.\n",
    "\n",
    "- `A combination of both` — A hybrid approach is also constantly being explored in various literature, including AdaOUBoost (adaptive over-sampling and undersampling boost) proposed by Peng and Yao and Learning By Recognition, using the concept of auto association-based classification approach proposed by Japkowicz.\n",
    "\n",
    "#### Dealing with imbalanced data in Python\n",
    "One of the most popular libraries for sampling methods in Python is none other than the imbalanced-learn package. It provides several methods for both over- and undersampling, as well as some combinational methods. For this tutorial, we will explore one example for each of these 3 methods:\n",
    "\n",
    "- `Random undersampling` with `RandomUnderSampler`\n",
    "- `Oversampling` with `SMOTE` (Synthetic Minority Over-sampling Technique)\n",
    "A combination of both random undersampling and oversampling using pipeline\n",
    "\n",
    "Reference for this notes are from a write up by Jack tan. The link is here (https://towardsdatascience.com/how-to-deal-with-imbalanced-data-in-python-f9b71aba53eb)"
   ]
  },
  {
   "cell_type": "code",
   "execution_count": 77,
   "metadata": {},
   "outputs": [],
   "source": [
    "# Apply the SMOTE oversampling method for handling the data imbalance\n",
    "sm = SMOTE(sampling_strategy='auto')\n",
    "X_res, y_res = sm.fit_resample(X_train, y_train)"
   ]
  },
  {
   "cell_type": "code",
   "execution_count": 78,
   "metadata": {},
   "outputs": [
    {
     "name": "stdout",
     "output_type": "stream",
     "text": [
      "Original dataset shape Counter({0: 29690, 1: 2310})\n",
      "Resampled dataset shape Counter({0: 29690, 1: 29690})\n"
     ]
    }
   ],
   "source": [
    "print('Original dataset shape {}'.format(Counter(y_train)))\n",
    "print('Resampled dataset shape {}'.format(Counter(y_res)))"
   ]
  },
  {
   "cell_type": "code",
   "execution_count": 79,
   "metadata": {},
   "outputs": [
    {
     "data": {
      "image/png": "[encoded data removed]",
      "text/plain": [
       "<Figure size 432x288 with 1 Axes>"
      ]
     },
     "metadata": {},
     "output_type": "display_data"
    }
   ],
   "source": [
    "plt.hist(y_res)\n",
    "plt.xticks([0,1])\n",
    "plt.title('SMOTE balanced Subscribed vs. Not-Subscribed Customers')\n",
    "plt.xlabel(\"Target\")\n",
    "plt.ylabel(\"Counts\");"
   ]
  },
  {
   "cell_type": "code",
   "execution_count": 80,
   "metadata": {},
   "outputs": [
    {
     "name": "stdout",
     "output_type": "stream",
     "text": [
      "Balanced dataset: Model Evaluation Metrics\n"
     ]
    },
    {
     "data": {
      "text/html": [
       "<div>\n",
       "<style scoped>\n",
       "    .dataframe tbody tr th:only-of-type {\n",
       "        vertical-align: middle;\n",
       "    }\n",
       "\n",
       "    .dataframe tbody tr th {\n",
       "        vertical-align: top;\n",
       "    }\n",
       "\n",
       "    .dataframe thead th {\n",
       "        text-align: right;\n",
       "    }\n",
       "</style>\n",
       "<table border=\"1\" class=\"dataframe\">\n",
       "  <thead>\n",
       "    <tr style=\"text-align: right;\">\n",
       "      <th></th>\n",
       "      <th>LR</th>\n",
       "      <th>KNN</th>\n",
       "      <th>BAGCLF</th>\n",
       "      <th>XGBOOST</th>\n",
       "      <th>RF</th>\n",
       "    </tr>\n",
       "  </thead>\n",
       "  <tbody>\n",
       "    <tr>\n",
       "      <th>Accuracy</th>\n",
       "      <td>0.93</td>\n",
       "      <td>0.93</td>\n",
       "      <td>0.93</td>\n",
       "      <td>0.93</td>\n",
       "      <td>0.93</td>\n",
       "    </tr>\n",
       "    <tr>\n",
       "      <th>Recall</th>\n",
       "      <td>0.21</td>\n",
       "      <td>0.21</td>\n",
       "      <td>0.23</td>\n",
       "      <td>0.25</td>\n",
       "      <td>0.24</td>\n",
       "    </tr>\n",
       "    <tr>\n",
       "      <th>Precision</th>\n",
       "      <td>0.59</td>\n",
       "      <td>0.48</td>\n",
       "      <td>0.48</td>\n",
       "      <td>0.50</td>\n",
       "      <td>0.53</td>\n",
       "    </tr>\n",
       "    <tr>\n",
       "      <th>f1-score</th>\n",
       "      <td>0.31</td>\n",
       "      <td>0.29</td>\n",
       "      <td>0.31</td>\n",
       "      <td>0.33</td>\n",
       "      <td>0.32</td>\n",
       "    </tr>\n",
       "    <tr>\n",
       "      <th>AUC</th>\n",
       "      <td>0.89</td>\n",
       "      <td>0.77</td>\n",
       "      <td>0.82</td>\n",
       "      <td>0.89</td>\n",
       "      <td>0.87</td>\n",
       "    </tr>\n",
       "  </tbody>\n",
       "</table>\n",
       "</div>"
      ],
      "text/plain": [
       "            LR  KNN  BAGCLF  XGBOOST   RF\n",
       "Accuracy  0.93 0.93    0.93     0.93 0.93\n",
       "Recall    0.21 0.21    0.23     0.25 0.24\n",
       "Precision 0.59 0.48    0.48     0.50 0.53\n",
       "f1-score  0.31 0.29    0.31     0.33 0.32\n",
       "AUC       0.89 0.77    0.82     0.89 0.87"
      ]
     },
     "execution_count": 80,
     "metadata": {},
     "output_type": "execute_result"
    }
   ],
   "source": [
    "model_performance_df_balanced = create_model_performance(x=X_res,y=y_res)\n",
    "print('Balanced dataset: Model Evaluation Metrics')\n",
    "model_performance_df_balanced.head(12)"
   ]
  },
  {
   "cell_type": "code",
   "execution_count": 81,
   "metadata": {},
   "outputs": [],
   "source": [
    "kfold = get_cross_validation_splitter()"
   ]
  },
  {
   "cell_type": "code",
   "execution_count": 82,
   "metadata": {},
   "outputs": [
    {
     "name": "stdout",
     "output_type": "stream",
     "text": [
      "Balanced dataset: Model Evaluation Metrics\n"
     ]
    },
    {
     "data": {
      "text/html": [
       "<div>\n",
       "<style scoped>\n",
       "    .dataframe tbody tr th:only-of-type {\n",
       "        vertical-align: middle;\n",
       "    }\n",
       "\n",
       "    .dataframe tbody tr th {\n",
       "        vertical-align: top;\n",
       "    }\n",
       "\n",
       "    .dataframe thead th {\n",
       "        text-align: right;\n",
       "    }\n",
       "</style>\n",
       "<table border=\"1\" class=\"dataframe\">\n",
       "  <thead>\n",
       "    <tr style=\"text-align: right;\">\n",
       "      <th></th>\n",
       "      <th>LR</th>\n",
       "      <th>KNN</th>\n",
       "      <th>BAGCLF</th>\n",
       "      <th>XGBOOST</th>\n",
       "      <th>RF</th>\n",
       "    </tr>\n",
       "  </thead>\n",
       "  <tbody>\n",
       "    <tr>\n",
       "      <th>Accuracy</th>\n",
       "      <td>0.93</td>\n",
       "      <td>0.93</td>\n",
       "      <td>0.93</td>\n",
       "      <td>0.93</td>\n",
       "      <td>0.93</td>\n",
       "    </tr>\n",
       "    <tr>\n",
       "      <th>Recall</th>\n",
       "      <td>0.21</td>\n",
       "      <td>0.21</td>\n",
       "      <td>0.23</td>\n",
       "      <td>0.26</td>\n",
       "      <td>0.23</td>\n",
       "    </tr>\n",
       "    <tr>\n",
       "      <th>Precision</th>\n",
       "      <td>0.59</td>\n",
       "      <td>0.49</td>\n",
       "      <td>0.48</td>\n",
       "      <td>0.51</td>\n",
       "      <td>0.51</td>\n",
       "    </tr>\n",
       "    <tr>\n",
       "      <th>f1-score</th>\n",
       "      <td>0.32</td>\n",
       "      <td>0.29</td>\n",
       "      <td>0.31</td>\n",
       "      <td>0.35</td>\n",
       "      <td>0.32</td>\n",
       "    </tr>\n",
       "    <tr>\n",
       "      <th>AUC</th>\n",
       "      <td>0.89</td>\n",
       "      <td>0.77</td>\n",
       "      <td>0.83</td>\n",
       "      <td>0.88</td>\n",
       "      <td>0.87</td>\n",
       "    </tr>\n",
       "  </tbody>\n",
       "</table>\n",
       "</div>"
      ],
      "text/plain": [
       "            LR  KNN  BAGCLF  XGBOOST   RF\n",
       "Accuracy  0.93 0.93    0.93     0.93 0.93\n",
       "Recall    0.21 0.21    0.23     0.26 0.23\n",
       "Precision 0.59 0.49    0.48     0.51 0.51\n",
       "f1-score  0.32 0.29    0.31     0.35 0.32\n",
       "AUC       0.89 0.77    0.83     0.88 0.87"
      ]
     },
     "execution_count": 82,
     "metadata": {},
     "output_type": "execute_result"
    }
   ],
   "source": [
    "model_performance_regular_kfold_df_balanced = create_model_performance(x=X_res,y=y_res)\n",
    "print('Balanced dataset: Model Evaluation Metrics')\n",
    "model_performance_regular_kfold_df_balanced.head(12)"
   ]
  },
  {
   "cell_type": "code",
   "execution_count": null,
   "metadata": {},
   "outputs": [],
   "source": []
  },
  {
   "cell_type": "code",
   "execution_count": null,
   "metadata": {},
   "outputs": [],
   "source": []
  }
 ],
 "metadata": {
  "kernelspec": {
   "display_name": "Python 3",
   "language": "python",
   "name": "python3"
  },
  "language_info": {
   "codemirror_mode": {
    "name": "ipython",
    "version": 3
   },
   "file_extension": ".py",
   "mimetype": "text/x-python",
   "name": "python",
   "nbconvert_exporter": "python",
   "pygments_lexer": "ipython3",
   "version": "3.8.5"
  },
  "toc": {
   "base_numbering": 1,
   "nav_menu": {},
   "number_sections": true,
   "sideBar": true,
   "skip_h1_title": false,
   "title_cell": "Table of Contents",
   "title_sidebar": "Contents",
   "toc_cell": false,
   "toc_position": {},
   "toc_section_display": true,
   "toc_window_display": true
  }
 },
 "nbformat": 4,
 "nbformat_minor": 4
}
